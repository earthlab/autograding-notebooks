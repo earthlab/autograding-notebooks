{
 "cells": [
  {
   "cell_type": "markdown",
   "metadata": {
    "nbgrader": {
     "grade": false,
     "grade_id": "cell-5564e714b717314e",
     "locked": true,
     "schema_version": 3,
     "solution": false,
     "task": false
    }
   },
   "source": [
    "# Partial credit documentation\n",
    "\n",
    "This notebook provides documentation and examples for implementing partial credit in autograder test cells using nbgrader. It uses the [matplotcheck](https://github.com/earthlab/matplotcheck) library for testing plots. "
   ]
  },
  {
   "cell_type": "markdown",
   "metadata": {
    "nbgrader": {
     "grade": false,
     "grade_id": "cell-ab46af6b99b2e013",
     "locked": true,
     "schema_version": 3,
     "solution": false,
     "task": false
    }
   },
   "source": [
    "## Partial credit logic\n",
    "\n",
    "For a cell to return partial credit with nbgrader, the output of an autograder test cell (i.e. what shows up as `[Out]`, _not_ standard output) must be a number between 0 and the number of points allocated to the cell. The logic for assigning credit is as follows:\n",
    "\n",
    "1. If the cell returns any errors, credit = 0 (this is the longstanding nbgrader behaviour)\n",
    "1. If the cell returns a single value that can be cast to a float, x, where 0<= x <= max_points, then credit = x\n",
    "1. If anything else, credit = max_points\n",
    "\n",
    "_Key point_: your autograde test cell cannot throw an error if you want to allow partial credit. You must handle any errors within the cell using `try / except` blocks. "
   ]
  },
  {
   "cell_type": "markdown",
   "metadata": {
    "nbgrader": {
     "grade": false,
     "grade_id": "cell-8595b9d3581af50c",
     "locked": true,
     "schema_version": 3,
     "solution": false,
     "task": false
    }
   },
   "source": [
    "## Setup\n",
    "Following few cells set up the imports and create a plot. This is the same setup as the `ea-homework-for-timeseries-raster` notebook. "
   ]
  },
  {
   "cell_type": "code",
   "execution_count": 2,
   "metadata": {
    "nbgrader": {
     "grade": true,
     "grade_id": "cell-3ffc16f6b516bcce",
     "locked": false,
     "points": 0,
     "schema_version": 3,
     "solution": true,
     "task": false
    }
   },
   "outputs": [
    {
     "ename": "ModuleNotFoundError",
     "evalue": "No module named 'matplotlib'",
     "output_type": "error",
     "traceback": [
      "\u001b[0;31m---------------------------------------------------------------------------\u001b[0m",
      "\u001b[0;31mModuleNotFoundError\u001b[0m                       Traceback (most recent call last)",
      "\u001b[0;32m<ipython-input-2-68e33c59de52>\u001b[0m in \u001b[0;36m<module>\u001b[0;34m\u001b[0m\n\u001b[1;32m      3\u001b[0m \u001b[0;31m# BEGIN SOLUTION\u001b[0m\u001b[0;34m\u001b[0m\u001b[0;34m\u001b[0m\u001b[0;34m\u001b[0m\u001b[0m\n\u001b[1;32m      4\u001b[0m \u001b[0;32mimport\u001b[0m \u001b[0mos\u001b[0m\u001b[0;34m\u001b[0m\u001b[0;34m\u001b[0m\u001b[0m\n\u001b[0;32m----> 5\u001b[0;31m \u001b[0;32mimport\u001b[0m \u001b[0mmatplotlib\u001b[0m\u001b[0;34m.\u001b[0m\u001b[0mpyplot\u001b[0m \u001b[0;32mas\u001b[0m \u001b[0mplt\u001b[0m\u001b[0;34m\u001b[0m\u001b[0;34m\u001b[0m\u001b[0m\n\u001b[0m\u001b[1;32m      6\u001b[0m \u001b[0;32mimport\u001b[0m \u001b[0mmatplotlib\u001b[0m\u001b[0;34m.\u001b[0m\u001b[0mdates\u001b[0m \u001b[0;32mas\u001b[0m \u001b[0mmdates\u001b[0m\u001b[0;34m\u001b[0m\u001b[0;34m\u001b[0m\u001b[0m\n\u001b[1;32m      7\u001b[0m \u001b[0;32mfrom\u001b[0m \u001b[0mmatplotlib\u001b[0m\u001b[0;34m.\u001b[0m\u001b[0mdates\u001b[0m \u001b[0;32mimport\u001b[0m \u001b[0mDateFormatter\u001b[0m\u001b[0;34m\u001b[0m\u001b[0;34m\u001b[0m\u001b[0m\n",
      "\u001b[0;31mModuleNotFoundError\u001b[0m: No module named 'matplotlib'"
     ]
    }
   ],
   "source": [
    "# Add the required packages needed to run your code here\n",
    "# We normally check to see if these on in the correct order following PEP guidelines (most common first)\n",
    "# BEGIN SOLUTION\n",
    "import os\n",
    "import matplotlib.pyplot as plt\n",
    "import matplotlib.dates as mdates\n",
    "from matplotlib.dates import DateFormatter\n",
    "import seaborn as sns\n",
    "import numpy as np\n",
    "import pandas as pd\n",
    "import earthpy as et\n",
    "import hydrofunctions as hf\n",
    "import urllib\n",
    "\n",
    "from pandas.plotting import register_matplotlib_converters\n",
    "register_matplotlib_converters()\n",
    "\n",
    "# prettier plotting with seaborn\n",
    "sns.set(font_scale=1.5)\n",
    "sns.set_style(\"whitegrid\")\n",
    "\n",
    "# END SOLUTION\n",
    "\n",
    "import matplotcheck.notebook as nb\n",
    "import matplotcheck.timeseries as ts\n",
    "import matplotcheck.raster as ra"
   ]
  },
  {
   "cell_type": "code",
   "execution_count": null,
   "metadata": {
    "nbgrader": {
     "grade": true,
     "grade_id": "cell-e1520692023368a5",
     "locked": false,
     "points": 0,
     "schema_version": 3,
     "solution": true,
     "task": false
    }
   },
   "outputs": [],
   "source": [
    "# Get data\n",
    "data = et.data.get_data(\"colorado-flood\")\n",
    "os.chdir(os.path.join(et.io.HOME, 'earth-analytics'))"
   ]
  },
  {
   "cell_type": "markdown",
   "metadata": {},
   "source": [
    "## Test cell\n",
    "\n",
    "The following cell contains the code we expect the student to generated (an `autograded answer` cell)."
   ]
  },
  {
   "cell_type": "code",
   "execution_count": null,
   "metadata": {
    "nbgrader": {
     "grade": false,
     "grade_id": "cell-f6e6b33b81ef4260",
     "locked": false,
     "schema_version": 3,
     "solution": true,
     "task": false
    }
   },
   "outputs": [],
   "source": [
    "# Create plot\n",
    "\n",
    "# BEGIN SOLUTION\n",
    "\n",
    "# import file\n",
    "f = \"data/colorado-flood/discharge/06730200-discharge-daily-1986-2013.txt\"\n",
    "discharge = pd.read_csv(f,\n",
    "                        skiprows=23,\n",
    "                        header=[1, 2],\n",
    "                        sep='\\t',\n",
    "                        parse_dates=[2])\n",
    "# drop one level of index\n",
    "discharge.columns = discharge.columns.droplevel(1)\n",
    "# set the date column as the index\n",
    "discharge = discharge.set_index([\"datetime\"])\n",
    "\n",
    "monthly_max_all = discharge.resample(\"M\").max()\n",
    "monthly_max = monthly_max_all['1990':'2014']\n",
    "\n",
    "fig, ax = plt.subplots(figsize=(10, 8))\n",
    "ax.scatter(x=monthly_max.index,\n",
    "           y=monthly_max[\"17663_00060_00003\"],\n",
    "           color=\"purple\")\n",
    "ax.set_title(\n",
    "    \"HW Plot 1: Stream Discharge - Monthly Max Value\\n be sure to add x and y labels (not shown here)\")\n",
    "\n",
    "ax.set(xlabel=\"Date\")\n",
    "\n",
    "# I believe we aren't supposed to use plt.show()\n",
    "#plt.show()\n",
    "\n",
    "# END SOLUTION\n",
    "\n",
    "### DO NOT REMOVE LINE BELOW ###\n",
    "ts_1_plot = nb.convert_axes(plt)"
   ]
  },
  {
   "cell_type": "markdown",
   "metadata": {
    "nbgrader": {
     "grade": false,
     "grade_id": "cell-5b13e828dc3d2f65",
     "locked": true,
     "schema_version": 3,
     "solution": false,
     "task": false
    }
   },
   "source": [
    "## Partial credit examples\n",
    "\n",
    "Now that we have an answer cell, we can show some ways to implement partial credit. The simplest implementation is a series of tests in try / except blocks containing assert statements."
   ]
  },
  {
   "cell_type": "code",
   "execution_count": null,
   "metadata": {
    "nbgrader": {
     "grade": true,
     "grade_id": "cell-89f31c27de4eb49f",
     "locked": true,
     "points": 4,
     "schema_version": 3,
     "solution": false,
     "task": false
    }
   },
   "outputs": [],
   "source": [
    "score = 0\n",
    "hw_plot1 = ts.TimeSeriesTester(ts_1_plot)\n",
    "\n",
    "# passing test\n",
    "try:\n",
    "    hw_plot1.assert_plot_type(\"scatter\")\n",
    "except:\n",
    "    pass\n",
    "else:\n",
    "    score += 1\n",
    "\n",
    "# passing test\n",
    "try:\n",
    "    hw_plot1.assert_title_contains([\"Stream discharge\"])\n",
    "except:\n",
    "    pass\n",
    "else:\n",
    "    score += 2\n",
    "\n",
    "# failing test; note that the cell does not throw the error, simply handles it with `pass`\n",
    "try:\n",
    "    hw_plot1.assert_axis_label_contains(axis=\"x\", lst=[\"Time\"])\n",
    "except:\n",
    "    pass\n",
    "else:\n",
    "    score += 1\n",
    "    \n",
    "score"
   ]
  },
  {
   "cell_type": "markdown",
   "metadata": {
    "nbgrader": {
     "grade": false,
     "grade_id": "cell-37584c613b6f1784",
     "locked": true,
     "schema_version": 3,
     "solution": false,
     "task": false
    }
   },
   "source": [
    "**Adding feedback**\n",
    "\n",
    "If we want to provide some helpful feedback to students, we can use stdout (i.e. print statements)."
   ]
  },
  {
   "cell_type": "code",
   "execution_count": null,
   "metadata": {
    "nbgrader": {
     "grade": true,
     "grade_id": "cell-d6eec899ec0951b2",
     "locked": true,
     "points": 2,
     "schema_version": 3,
     "solution": false,
     "task": false
    }
   },
   "outputs": [],
   "source": [
    "score = 0\n",
    "try:\n",
    "    hw_plot1.assert_plot_type(\"line\")\n",
    "except:\n",
    "    print(\"Failed test: Your plot is not a scatter plot!\")\n",
    "    pass\n",
    "else:\n",
    "    print(\"Passed test: Your plot is a scatter plot (1 point)\")\n",
    "    score += 1\n",
    "\n",
    "try:\n",
    "    hw_plot1.assert_axis_label_contains(axis=\"x\", lst=[\"Date\"])\n",
    "except:\n",
    "    print(\"Failed test: Your x axis label does not contain 'Date'\")\n",
    "    pass\n",
    "else:\n",
    "    print(\"Passed test: Your x axis label contains 'Date' (1 point)\")\n",
    "    score += 1\n",
    "\n",
    "score"
   ]
  },
  {
   "cell_type": "markdown",
   "metadata": {},
   "source": [
    "**Simple wrapper, printing errors**\n",
    "\n",
    "We could wrap the tests into a function that returns the total points, and then simply run the function (all error handling within function). This also shows how to return the error message from the Exception. "
   ]
  },
  {
   "cell_type": "code",
   "execution_count": null,
   "metadata": {
    "nbgrader": {
     "grade": true,
     "grade_id": "cell-17d2b38edc0df31a",
     "locked": true,
     "points": 2,
     "schema_version": 3,
     "solution": false,
     "task": false
    }
   },
   "outputs": [],
   "source": [
    "def run_tests(plot):\n",
    "    total_points = 0\n",
    "\n",
    "    try:\n",
    "        hw_plot1.assert_xticks_reformatted(\n",
    "            tick_size=\"large\", loc_exp=\"year\", m=\"Please fix this\")\n",
    "        total_points += 1\n",
    "        print(\"Pass! x ticks look good! (1 point)\")\n",
    "    except AssertionError as err:\n",
    "        print(\"Fail! x ticks have not been reformatted properly\")\n",
    "        print(\"Error message from exception: {}\".format(err))\n",
    "\n",
    "    try:\n",
    "        hw_plot1.assert_axis_label_contains(axis=\"x\", lst=[\"Time\"])\n",
    "        total_points += 1\n",
    "        print(\"Pass! X axis label is good!\")\n",
    "    except AssertionError as err:\n",
    "        print(\"Fail! x axis label does not contain 'Date'\")\n",
    "        print(\" Error message from exception: '{}'\".format(err))\n",
    "\n",
    "    return total_points\n",
    "    \n",
    "hw_plot1 = ts.TimeSeriesTester(ts_1_plot)\n",
    "run_tests(hw_plot1)\n",
    "\n",
    "    "
   ]
  },
  {
   "cell_type": "markdown",
   "metadata": {},
   "source": [
    "Given the repetition of the try / except code, we can wrap the whole thing in a function that runs any arbitrary test. "
   ]
  },
  {
   "cell_type": "code",
   "execution_count": null,
   "metadata": {},
   "outputs": [],
   "source": [
    "# simple wrapper to illustrate passing function name and positional arguments for the function\n",
    "def simple_wrapper(func, *args, **kwargs):\n",
    "    func(*args, **kwargs)\n",
    "\n",
    "# using wrapper with functions with positional and keyword arguments\n",
    "simple_wrapper(hw_plot1.assert_plot_type, 'scatter')\n",
    "simple_wrapper(hw_plot1.assert_axis_label_contains, axis=\"x\", lst=[\"Date\"])"
   ]
  },
  {
   "cell_type": "markdown",
   "metadata": {},
   "source": [
    "Making the wrapper more complex - the wrapper has its own positional arguments (function, number of points) and keyword arguments (pass / fail error messages) and also takes `*args` and `**kwargs` to pass along to the named function. It returns a dictionary of results, and we have a function to print those out and return the points. "
   ]
  },
  {
   "cell_type": "code",
   "execution_count": null,
   "metadata": {},
   "outputs": [],
   "source": [
    "def run_test(func, points, *args, correct_message=\"default correct\", error_message=\"default error\", **kwargs):\n",
    "    results = {\"points\": 0, \"pass\": False}\n",
    "    score = 0\n",
    "    try:\n",
    "        fname = func.__name__\n",
    "        results['description'] = fname\n",
    "        func(*args, **kwargs)\n",
    "    except Exception as e:\n",
    "        results['message'] = error_message\n",
    "        results['traceback'] = e\n",
    "        pass\n",
    "    else:\n",
    "        results['pass'] = True\n",
    "        results['message'] = correct_message\n",
    "        results['points'] = points\n",
    "    \n",
    "    return results\n",
    "   \n",
    "def output_results(results):\n",
    "    points = 0\n",
    "    for r in results:\n",
    "        points += r['points']\n",
    "        print(\"Results for test '{}':\".format(r['description']))\n",
    "        if (r['pass']):\n",
    "            print(\" Pass! {msg} ({p} points)\".format(msg=r['message'],p=r['points']))\n",
    "        else:\n",
    "            print(\" Fail! {msg} ({p} points)\".format(msg=r['message'],p=r['points']))\n",
    "            print(\" Traceback: {t}\".format(t=r['traceback']))\n",
    "    return points\n",
    "\n"
   ]
  },
  {
   "cell_type": "markdown",
   "metadata": {},
   "source": [
    "Now we can use these two function to run and print any test (and output the results)"
   ]
  },
  {
   "cell_type": "code",
   "execution_count": null,
   "metadata": {},
   "outputs": [],
   "source": [
    "results = []\n",
    "result = run_test(hw_plot1.assert_plot_type, 3, 'line',\n",
    "             correct_message=\"Passed test: Your plot is a scatter plot\",\n",
    "             error_message=\"Failed test: Your plot is not a scatter plot!\")\n",
    "results.append(result)\n",
    "\n",
    "result = run_test(hw_plot1.assert_axis_label_contains, 1, \n",
    "                  correct_message = \"Your x axis label contains 'Date'\",\n",
    "                  error_message = \"Your x axis label does not contain 'Date'\",\n",
    "                  axis=\"x\", lst=[\"Blag\"])\n",
    "results.append(result)\n",
    "\n",
    "output_results(results)\n",
    "    "
   ]
  },
  {
   "cell_type": "code",
   "execution_count": null,
   "metadata": {},
   "outputs": [],
   "source": []
  }
 ],
 "metadata": {
  "celltoolbar": "Create Assignment",
  "kernelspec": {
   "display_name": "Python 3",
   "language": "python",
   "name": "python3"
  },
  "language_info": {
   "codemirror_mode": {
    "name": "ipython",
    "version": 3
   },
   "file_extension": ".py",
   "mimetype": "text/x-python",
   "name": "python",
   "nbconvert_exporter": "python",
   "pygments_lexer": "ipython3",
   "version": "3.7.3"
  }
 },
 "nbformat": 4,
 "nbformat_minor": 2
}
