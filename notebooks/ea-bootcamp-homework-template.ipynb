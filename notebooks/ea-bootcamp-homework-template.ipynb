{
 "cells": [
  {
   "cell_type": "markdown",
   "metadata": {
    "nbgrader": {
     "grade": false,
     "grade_id": "header-logo",
     "locked": true,
     "schema_version": 3,
     "solution": false,
     "task": false
    }
   },
   "source": [
    "<img style=\"float: left;\" src=\"../images/earth-lab-logo-rgb.png\" width=\"250\" height=\"250\" />"
   ]
  },
  {
   "cell_type": "markdown",
   "metadata": {
    "nbgrader": {
     "grade": false,
     "grade_id": "hw-instructions",
     "locked": true,
     "schema_version": 3,
     "solution": false,
     "task": false
    }
   },
   "source": [
    "# Week X Homework Template\n",
    "\n",
    "This week, you will explore `topic X`.  You will use `Y data` provided by `Z source` to complete the following tasks:\n",
    "1. A\n",
    "2. B\n",
    "3. C"
   ]
  },
  {
   "cell_type": "code",
   "execution_count": null,
   "metadata": {
    "nbgrader": {
     "grade": false,
     "grade_id": "core-imports",
     "locked": true,
     "schema_version": 3,
     "solution": false,
     "task": false
    }
   },
   "outputs": [],
   "source": [
    "# Core imports needed for grading\n",
    "import matplotcheck.notebook as nb\n",
    "import matplotcheck.timeseries as ts"
   ]
  },
  {
   "cell_type": "markdown",
   "metadata": {
    "nbgrader": {
     "grade": false,
     "grade_id": "question-student-imports",
     "locked": true,
     "schema_version": 3,
     "solution": false,
     "task": false
    }
   },
   "source": [
    "## Import Python Packages\n",
    "\n",
    "In the cell below, import the necessary `Python` packages that you need to complete this assignment. "
   ]
  },
  {
   "cell_type": "code",
   "execution_count": null,
   "metadata": {
    "nbgrader": {
     "grade": true,
     "grade_id": "student-imports-answer",
     "locked": false,
     "points": 2,
     "schema_version": 3,
     "solution": true,
     "task": false
    },
    "tags": [
     "hide"
    ]
   },
   "outputs": [],
   "source": [
    "# Import necessary Python packages\n",
    "\n",
    "# BEGIN SOLUTION\n",
    "import os\n",
    "import matplotlib.pyplot as plt\n",
    "import pandas as pd\n",
    "import earthpy as et\n",
    "\n",
    "# END SOLUTION"
   ]
  },
  {
   "cell_type": "markdown",
   "metadata": {
    "nbgrader": {
     "grade": false,
     "grade_id": "question-plot",
     "locked": true,
     "schema_version": 3,
     "solution": false,
     "task": false
    }
   },
   "source": [
    "## Create Plot of X\n",
    "\n",
    "In the cell below, add your code to create a plot of `X`.  \n",
    "\n",
    "Be sure to include:\n",
    "1. An appropriate plot title.\n",
    "2. Clear labels for the axes (including units of measurements where applicable)."
   ]
  },
  {
   "cell_type": "code",
   "execution_count": null,
   "metadata": {
    "nbgrader": {
     "grade": false,
     "grade_id": "student-plot-answer",
     "locked": false,
     "schema_version": 3,
     "solution": true,
     "task": false
    }
   },
   "outputs": [],
   "source": [
    "# Create plot\n",
    "\n",
    "# BEGIN SOLUTION\n",
    "\n",
    "# Download data \n",
    "url = \"https://ndownloader.figshare.com/files/12767933\"\n",
    "et.data.get_data(url=url)\n",
    "\n",
    "# Set working directory\n",
    "os.chdir(os.path.join(et.io.HOME, 'earth-analytics'))\n",
    "\n",
    "# Import to pandas dataframe\n",
    "precip_2007_to_2017_months = pd.read_csv(\"data/earthpy-downloads/boulder-precip-2007-to-2017-months-seasons.csv\")\n",
    "\n",
    "fig, ax = plt.subplots()\n",
    "\n",
    "# Add the x-axis and the y-axis to the plot\n",
    "ax.plot(precip_2007_to_2017_months.months, precip_2007_to_2017_months.y2013, color=\"blue\")\n",
    "\n",
    "# Set plot title\n",
    "ax.set(title=\"Monthly Precipitation in 2013 for Boulder, CO\")\n",
    "\n",
    "# Add labels to the axes\n",
    "ax.set(xlabel=\"Month\", ylabel=\"Precipitation (mm)\")\n",
    "    \n",
    "# rotate tick marks on x-axis\n",
    "plt.setp(ax.get_xticklabels(), rotation=45);\n",
    "\n",
    "# END SOLUTION\n",
    "\n",
    "### DO NOT REMOVE LINE BELOW ###\n",
    "ts_1_plot = nb.convert_axes(plt)"
   ]
  },
  {
   "cell_type": "markdown",
   "metadata": {
    "nbgrader": {
     "grade": false,
     "grade_id": "question-data",
     "locked": true,
     "schema_version": 3,
     "solution": false,
     "task": false
    }
   },
   "source": [
    "## Additional Data Questions\n",
    "\n",
    "In the cell below, add your code to determine the following about `Y data`:\n",
    "1. A\n",
    "2. B"
   ]
  },
  {
   "cell_type": "code",
   "execution_count": null,
   "metadata": {
    "nbgrader": {
     "grade": false,
     "grade_id": "student-data-answer",
     "locked": true,
     "points": 2,
     "schema_version": 3,
     "solution": false,
     "task": true
    }
   },
   "outputs": [],
   "source": [
    "# BEGIN SOLUTION\n",
    "\n",
    "precip_2007_to_2017_months.describe()\n",
    "\n",
    "# END SOLUTION"
   ]
  },
  {
   "cell_type": "code",
   "execution_count": null,
   "metadata": {
    "nbgrader": {
     "grade": true,
     "grade_id": "func-def",
     "locked": true,
     "points": 0,
     "schema_version": 3,
     "solution": false,
     "task": false
    }
   },
   "outputs": [],
   "source": [
    "def run_test(func, points, *args, correct_message=\"default correct\", error_message=\"default error\", **kwargs):\n",
    "    results = {\"points\": 0, \"pass\": False}\n",
    "    score = 0\n",
    "    try:\n",
    "        fname = func.__name__\n",
    "        results['description'] = fname\n",
    "        func(*args, **kwargs)\n",
    "    except Exception as e:\n",
    "        results['message'] = error_message\n",
    "        results['traceback'] = e\n",
    "        pass\n",
    "    else:\n",
    "        results['pass'] = True\n",
    "        results['message'] = correct_message\n",
    "        results['points'] = points\n",
    "    \n",
    "    return results\n",
    "   \n",
    "def output_results(results):\n",
    "    points = 0\n",
    "    for r in results:\n",
    "        points += r['points']\n",
    "        print(\"Results for test '{}':\".format(r['description']))\n",
    "        if (r['pass']):\n",
    "            print(\" Pass! {msg} ({p} points)\".format(msg=r['message'],p=r['points']))\n",
    "        else:\n",
    "            print(\" Fail! {msg} ({p} points)\".format(msg=r['message'],p=r['points']))\n",
    "            print(\" Traceback: {t}\".format(t=r['traceback']))\n",
    "    return points"
   ]
  },
  {
   "cell_type": "code",
   "execution_count": null,
   "metadata": {
    "nbgrader": {
     "grade": true,
     "grade_id": "visible-tests",
     "locked": true,
     "points": 9,
     "schema_version": 3,
     "solution": false,
     "task": false
    }
   },
   "outputs": [],
   "source": [
    "# Locked Grading Cell\n",
    "## Visible test\n",
    "hw_plot1 = ts.TimeSeriesTester(ts_1_plot)\n",
    "\n",
    "results = []\n",
    "\n",
    "plot_type_test = run_test(hw_plot1.assert_plot_type, 3, 'line', \n",
    "             correct_message=\"Your plot is of the correct type.\",\n",
    "             error_message=\"Check your plot type.\")\n",
    "results.append(plot_type_test)\n",
    "\n",
    "plot_x_lab_test = run_test(hw_plot1.assert_axis_label_contains, 2, axis=\"x\", lst=[\"Month\"],\n",
    "                  correct_message=\"Your x axis label contains the appropriate keywords.\",\n",
    "                  error_message=\"Check your x axis label for a more appropriate label.\")\n",
    "results.append(plot_x_lab_test)\n",
    "\n",
    "plot_y_lab_test = run_test(hw_plot1.assert_axis_label_contains, 2, axis=\"y\", lst=[\"Precip\", \"mm\"], \n",
    "                  correct_message=\"Your y axis label contains the appropriate keywords and units identified.\",\n",
    "                  error_message=\"Check your y axis label for a more appropriate label with units identified.\")\n",
    "results.append(plot_y_lab_test)\n",
    "\n",
    "plot_title_test = run_test(hw_plot1.assert_title_contains, 2, [\"Month\", \"Precip\", \"2013\"],\n",
    "                   correct_message=\"Plot title contains the appropriate keywords.\",\n",
    "                   error_message=\"Check your plot title words for a more appropriate title.\")\n",
    "results.append(plot_title_test)\n",
    "\n",
    "output_results(results)"
   ]
  },
  {
   "cell_type": "code",
   "execution_count": null,
   "metadata": {
    "nbgrader": {
     "grade": true,
     "grade_id": "hidden-tests",
     "locked": true,
     "points": 6,
     "schema_version": 3,
     "solution": false,
     "task": false
    }
   },
   "outputs": [],
   "source": [
    "### BEGIN HIDDEN TESTS\n",
    "\n",
    "# Create expected data\n",
    "precip_2007_to_2017_months.reset_index(inplace=True)\n",
    "precip_2013 = precip_2007_to_2017_months[[\"index\", \"y2013\"]]\n",
    "\n",
    "# Add test to ensure the df has the correct values\n",
    "data_test = run_test(hw_plot1.assert_xydata, 6, xy_expected=precip_2013, \n",
    "                correct_message=\"Plot includes correct data\",\n",
    "                error_message=\"Check your plot data.\",\n",
    "                xcol=\"index\",\n",
    "                ycol=\"y2013\")\n",
    "\n",
    "results.append(data_test)\n",
    "\n",
    "output_results(results)\n",
    "\n",
    "### END HIDDEN TESTS"
   ]
  }
 ],
 "metadata": {
  "celltoolbar": "Create Assignment",
  "kernelspec": {
   "display_name": "Python 3",
   "language": "python",
   "name": "python3"
  },
  "language_info": {
   "codemirror_mode": {
    "name": "ipython",
    "version": 3
   },
   "file_extension": ".py",
   "mimetype": "text/x-python",
   "name": "python",
   "nbconvert_exporter": "python",
   "pygments_lexer": "ipython3",
   "version": "3.6.7"
  }
 },
 "nbformat": 4,
 "nbformat_minor": 2
}
