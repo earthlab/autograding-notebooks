{
 "cells": [
  {
   "cell_type": "markdown",
   "metadata": {
    "nbgrader": {
     "grade": false,
     "grade_id": "header-logo",
     "locked": true,
     "schema_version": 3,
     "solution": false,
     "task": false
    }
   },
   "source": [
    "<img style=\"float: left;\" src=\"../images/earth-lab-logo-rgb.png\" width=\"150\" height=\"150\" />\n",
    "\n",
    "# Earth Analytics Education"
   ]
  },
  {
   "cell_type": "markdown",
   "metadata": {
    "nbgrader": {
     "grade": false,
     "grade_id": "hw-instructions",
     "locked": true,
     "schema_version": 3,
     "solution": false,
     "task": false
    }
   },
   "source": [
    "# Week X Homework Template\n",
    "\n",
    "This week, you will explore `topic X`.  You will use `Y data` provided by `Z source` to complete the following tasks:\n",
    "1. A\n",
    "2. B\n",
    "3. C"
   ]
  },
  {
   "cell_type": "code",
   "execution_count": 1,
   "metadata": {
    "nbgrader": {
     "grade": false,
     "grade_id": "core-imports",
     "locked": true,
     "schema_version": 3,
     "solution": false,
     "task": false
    }
   },
   "outputs": [],
   "source": [
    "# Core imports needed for grading\n",
    "import matplotcheck.notebook as nb\n",
    "import matplotcheck.timeseries as ts"
   ]
  },
  {
   "cell_type": "code",
   "execution_count": 2,
   "metadata": {
    "nbgrader": {
     "grade": true,
     "grade_id": "func-def",
     "locked": true,
     "points": 0,
     "schema_version": 3,
     "solution": false,
     "task": false
    }
   },
   "outputs": [],
   "source": [
    "# These functions will be removed from here and imported to simplify notebook\n",
    "def run_test(func, points, *args, correct_message=\"default correct\", error_message=\"default error\", **kwargs):\n",
    "    results = {\"points\": 0, \"pass\": False}\n",
    "    score = 0\n",
    "    try:\n",
    "        fname = func.__name__\n",
    "        results['description'] = fname\n",
    "        func(*args, **kwargs)\n",
    "    except Exception as e:\n",
    "        results['message'] = error_message\n",
    "        results['traceback'] = e\n",
    "        pass\n",
    "    else:\n",
    "        results['pass'] = True\n",
    "        results['message'] = correct_message\n",
    "        results['points'] = points\n",
    "    \n",
    "    return results\n",
    "   \n",
    "def output_results(results):\n",
    "    points = 0\n",
    "    for r in results:\n",
    "        points += r['points']\n",
    "        print(\"Results for test '{}':\".format(r['description']))\n",
    "        if (r['pass']):\n",
    "            print(\" Pass! {msg} ({p} points)\".format(msg=r['message'],p=r['points']))\n",
    "        else:\n",
    "            print(\" Fail! {msg} ({p} points)\".format(msg=r['message'],p=r['points']))\n",
    "            print(\" Traceback: {t}\".format(t=r['traceback']))\n",
    "    return points"
   ]
  },
  {
   "cell_type": "markdown",
   "metadata": {
    "nbgrader": {
     "grade": false,
     "grade_id": "question-student-imports",
     "locked": true,
     "schema_version": 3,
     "solution": false,
     "task": false
    }
   },
   "source": [
    "## Import Python Packages\n",
    "\n",
    "In the cell below, import the necessary **Python** packages that you need to complete this assignment. \n",
    "\n",
    "Be sure to add your code **after the line for `Your Code Here`**, replacing `raise NotImplementedError()` with your code."
   ]
  },
  {
   "cell_type": "code",
   "execution_count": 3,
   "metadata": {
    "nbgrader": {
     "grade": true,
     "grade_id": "student-imports-answer",
     "locked": false,
     "points": 2,
     "schema_version": 3,
     "solution": true,
     "task": false
    },
    "tags": [
     "hide"
    ]
   },
   "outputs": [],
   "source": [
    "# Import necessary Python packages\n",
    "\n",
    "# BEGIN SOLUTION\n",
    "\n",
    "import os\n",
    "import matplotlib.pyplot as plt\n",
    "import pandas as pd\n",
    "import earthpy as et\n",
    "\n",
    "# END SOLUTION"
   ]
  },
  {
   "cell_type": "markdown",
   "metadata": {
    "nbgrader": {
     "grade": false,
     "grade_id": "question-dir",
     "locked": true,
     "schema_version": 3,
     "solution": false,
     "task": false
    }
   },
   "source": [
    "## Download Data and Set Working Directory\n",
    "\n",
    "In the cell below, download the necessary data for this assignment and set the working directory. \n",
    "\n",
    "Be sure to add your code **after the line for `Your Code Here`**, replacing `raise NotImplementedError()` with your code."
   ]
  },
  {
   "cell_type": "code",
   "execution_count": 4,
   "metadata": {
    "nbgrader": {
     "grade": false,
     "grade_id": "student-dir-answer",
     "locked": false,
     "schema_version": 3,
     "solution": true,
     "task": false
    }
   },
   "outputs": [],
   "source": [
    "# BEGIN SOLUTION\n",
    "\n",
    "# Download data \n",
    "url = \"https://ndownloader.figshare.com/files/12767933\"\n",
    "et.data.get_data(url=url)\n",
    "\n",
    "# Set working directory\n",
    "os.chdir(os.path.join(et.io.HOME, 'earth-analytics'))\n",
    "\n",
    "# END SOLUTION"
   ]
  },
  {
   "cell_type": "code",
   "execution_count": 5,
   "metadata": {
    "nbgrader": {
     "grade": true,
     "grade_id": "hidden-dir-tests",
     "locked": true,
     "points": 2,
     "schema_version": 3,
     "solution": false,
     "task": false
    }
   },
   "outputs": [
    {
     "name": "stdout",
     "output_type": "stream",
     "text": [
      "Results for test 'assert_work_dir':\n",
      " Pass! Your working directory is correct. (2 points)\n"
     ]
    },
    {
     "data": {
      "text/plain": [
       "2"
      ]
     },
     "execution_count": 5,
     "metadata": {},
     "output_type": "execute_result"
    }
   ],
   "source": [
    "### BEGIN HIDDEN TESTS\n",
    "\n",
    "results = []\n",
    "\n",
    "## Test working directory\n",
    "def assert_work_dir():\n",
    "    assert os.getcwd() == os.path.join(et.io.HOME, 'earth-analytics'), \"Incorrect working directory\"\n",
    "\n",
    "work_dir_test = run_test(assert_work_dir, 2, \n",
    "                  correct_message=\"Your working directory is correct.\",\n",
    "                  error_message=\"Check your working directory.\")\n",
    "\n",
    "results.append(work_dir_test)\n",
    "\n",
    "output_results(results)\n",
    "    \n",
    "### END HIDDEN TESTS"
   ]
  },
  {
   "cell_type": "markdown",
   "metadata": {
    "nbgrader": {
     "grade": false,
     "grade_id": "question-plot",
     "locked": true,
     "schema_version": 3,
     "solution": false,
     "task": false
    }
   },
   "source": [
    "## Create Plot of X\n",
    "\n",
    "In the cell below, add your code to create a plot of `X`.  \n",
    "\n",
    "Be sure to include:\n",
    "1. An appropriate plot title.\n",
    "2. Clear labels for the axes (including units of measurements where applicable).\n",
    "\n",
    "Be sure to add your code **after the line for `Your Code Here`**, replacing `raise NotImplementedError()` with your code."
   ]
  },
  {
   "cell_type": "code",
   "execution_count": 6,
   "metadata": {
    "nbgrader": {
     "grade": false,
     "grade_id": "student-plot-answer",
     "locked": false,
     "schema_version": 3,
     "solution": true,
     "task": false
    }
   },
   "outputs": [
    {
     "data": {
      "image/png": "[encoded data removed]",
      "text/plain": [
       "<Figure size 432x288 with 1 Axes>"
      ]
     },
     "metadata": {
      "needs_background": "light"
     },
     "output_type": "display_data"
    }
   ],
   "source": [
    "# Create plot\n",
    "\n",
    "# BEGIN SOLUTION\n",
    "\n",
    "# Import to pandas dataframe\n",
    "fname = \"data/earthpy-downloads/boulder-precip-2007-to-2017-months-seasons.csv\"\n",
    "precip_2007_to_2017_months = pd.read_csv(fname)\n",
    "\n",
    "fig, ax = plt.subplots()\n",
    "\n",
    "# Add the x-axis and the y-axis to the plot\n",
    "ax.plot(precip_2007_to_2017_months.months, precip_2007_to_2017_months.y2013, color=\"blue\")\n",
    "\n",
    "# Set plot title and axes labels\n",
    "ax.set(title=\"Monthly Precipitation in 2013 for Boulder, CO\",\n",
    "       xlabel=\"Month\", ylabel=\"Precipitation (mm)\")\n",
    "    \n",
    "# rotate tick marks on x-axis\n",
    "plt.setp(ax.get_xticklabels(), rotation=45);\n",
    "\n",
    "# Note - using plt.show() rather than the semi-colon (;)\n",
    "# results in an extra empty plot being displayed \n",
    "# and the tests to fail \n",
    "\n",
    "# END SOLUTION\n",
    "\n",
    "### DO NOT REMOVE LINE BELOW ###\n",
    "ts_1_plot = nb.convert_axes(plt)"
   ]
  },
  {
   "cell_type": "markdown",
   "metadata": {
    "nbgrader": {
     "grade": false,
     "grade_id": "question-explain-plot",
     "locked": true,
     "schema_version": 3,
     "solution": false,
     "task": false
    }
   },
   "source": [
    "## Explain Plot\n",
    "\n",
    "In the `Markdown` cell below, answer the following questions about your plot:\n",
    "1. A?\n",
    "2. B?\n",
    "\n",
    "Remove any existing text in the cell before adding your answer."
   ]
  },
  {
   "cell_type": "markdown",
   "metadata": {
    "nbgrader": {
     "grade": true,
     "grade_id": "student-explain-plot-answer",
     "locked": false,
     "points": 7,
     "schema_version": 3,
     "solution": true,
     "task": false
    }
   },
   "source": [
    "### Replace this text with your answer\n"
   ]
  },
  {
   "cell_type": "markdown",
   "metadata": {
    "nbgrader": {
     "grade": false,
     "grade_id": "question-data",
     "locked": true,
     "schema_version": 3,
     "solution": false,
     "task": false
    }
   },
   "source": [
    "## Data Questions\n",
    "\n",
    "In the cell below, add your code to determine the following about `Y data`:\n",
    "1. A\n",
    "2. B\n",
    "\n",
    "Be sure to add your code **after the line for `Your Code Here`**, replacing `raise NotImplementedError()` with your code."
   ]
  },
  {
   "cell_type": "code",
   "execution_count": 7,
   "metadata": {
    "nbgrader": {
     "grade": false,
     "grade_id": "student-data-answer",
     "locked": true,
     "points": 4,
     "schema_version": 3,
     "solution": false,
     "task": true
    }
   },
   "outputs": [
    {
     "data": {
      "text/html": [
       "<div>\n",
       "<style scoped>\n",
       "    .dataframe tbody tr th:only-of-type {\n",
       "        vertical-align: middle;\n",
       "    }\n",
       "\n",
       "    .dataframe tbody tr th {\n",
       "        vertical-align: top;\n",
       "    }\n",
       "\n",
       "    .dataframe thead th {\n",
       "        text-align: right;\n",
       "    }\n",
       "</style>\n",
       "<table border=\"1\" class=\"dataframe\">\n",
       "  <thead>\n",
       "    <tr style=\"text-align: right;\">\n",
       "      <th></th>\n",
       "      <th>y2007</th>\n",
       "      <th>y2008</th>\n",
       "      <th>y2009</th>\n",
       "      <th>y2010</th>\n",
       "      <th>y2011</th>\n",
       "      <th>y2012</th>\n",
       "      <th>y2013</th>\n",
       "      <th>y2014</th>\n",
       "      <th>y2015</th>\n",
       "      <th>y2016</th>\n",
       "      <th>y2017</th>\n",
       "    </tr>\n",
       "  </thead>\n",
       "  <tbody>\n",
       "    <tr>\n",
       "      <td>count</td>\n",
       "      <td>12.000000</td>\n",
       "      <td>12.000000</td>\n",
       "      <td>12.000000</td>\n",
       "      <td>12.000000</td>\n",
       "      <td>12.000000</td>\n",
       "      <td>12.000000</td>\n",
       "      <td>12.000000</td>\n",
       "      <td>12.000000</td>\n",
       "      <td>12.000000</td>\n",
       "      <td>12.000000</td>\n",
       "      <td>12.000000</td>\n",
       "    </tr>\n",
       "    <tr>\n",
       "      <td>mean</td>\n",
       "      <td>36.258500</td>\n",
       "      <td>36.025667</td>\n",
       "      <td>46.968833</td>\n",
       "      <td>43.010667</td>\n",
       "      <td>47.180500</td>\n",
       "      <td>33.125833</td>\n",
       "      <td>72.284167</td>\n",
       "      <td>49.889833</td>\n",
       "      <td>56.980667</td>\n",
       "      <td>36.512500</td>\n",
       "      <td>46.545500</td>\n",
       "    </tr>\n",
       "    <tr>\n",
       "      <td>std</td>\n",
       "      <td>16.255323</td>\n",
       "      <td>30.170129</td>\n",
       "      <td>41.998067</td>\n",
       "      <td>32.757735</td>\n",
       "      <td>32.716312</td>\n",
       "      <td>35.196515</td>\n",
       "      <td>125.809508</td>\n",
       "      <td>33.508307</td>\n",
       "      <td>57.141977</td>\n",
       "      <td>30.502529</td>\n",
       "      <td>40.999512</td>\n",
       "    </tr>\n",
       "    <tr>\n",
       "      <td>min</td>\n",
       "      <td>9.652000</td>\n",
       "      <td>2.286000</td>\n",
       "      <td>6.858000</td>\n",
       "      <td>6.350000</td>\n",
       "      <td>8.382000</td>\n",
       "      <td>0.254000</td>\n",
       "      <td>6.858000</td>\n",
       "      <td>17.272000</td>\n",
       "      <td>3.556000</td>\n",
       "      <td>9.398000</td>\n",
       "      <td>11.430000</td>\n",
       "    </tr>\n",
       "    <tr>\n",
       "      <td>25%</td>\n",
       "      <td>21.463000</td>\n",
       "      <td>14.922500</td>\n",
       "      <td>14.478000</td>\n",
       "      <td>14.668500</td>\n",
       "      <td>25.654000</td>\n",
       "      <td>9.525000</td>\n",
       "      <td>14.795500</td>\n",
       "      <td>27.686000</td>\n",
       "      <td>9.652000</td>\n",
       "      <td>11.811000</td>\n",
       "      <td>18.224500</td>\n",
       "    </tr>\n",
       "    <tr>\n",
       "      <td>50%</td>\n",
       "      <td>42.799000</td>\n",
       "      <td>31.877000</td>\n",
       "      <td>35.687000</td>\n",
       "      <td>30.988000</td>\n",
       "      <td>38.100000</td>\n",
       "      <td>23.114000</td>\n",
       "      <td>32.131000</td>\n",
       "      <td>40.894000</td>\n",
       "      <td>45.593000</td>\n",
       "      <td>25.019000</td>\n",
       "      <td>36.322000</td>\n",
       "    </tr>\n",
       "    <tr>\n",
       "      <td>75%</td>\n",
       "      <td>46.863000</td>\n",
       "      <td>41.783000</td>\n",
       "      <td>70.993000</td>\n",
       "      <td>72.580500</td>\n",
       "      <td>62.166500</td>\n",
       "      <td>46.228000</td>\n",
       "      <td>59.563000</td>\n",
       "      <td>53.911500</td>\n",
       "      <td>80.200500</td>\n",
       "      <td>53.340000</td>\n",
       "      <td>51.943000</td>\n",
       "    </tr>\n",
       "    <tr>\n",
       "      <td>max</td>\n",
       "      <td>56.896000</td>\n",
       "      <td>106.934000</td>\n",
       "      <td>149.352000</td>\n",
       "      <td>92.202000</td>\n",
       "      <td>131.064000</td>\n",
       "      <td>126.746000</td>\n",
       "      <td>461.264000</td>\n",
       "      <td>116.078000</td>\n",
       "      <td>198.628000</td>\n",
       "      <td>97.536000</td>\n",
       "      <td>159.766000</td>\n",
       "    </tr>\n",
       "  </tbody>\n",
       "</table>\n",
       "</div>"
      ],
      "text/plain": [
       "           y2007       y2008       y2009      y2010       y2011       y2012  \\\n",
       "count  12.000000   12.000000   12.000000  12.000000   12.000000   12.000000   \n",
       "mean   36.258500   36.025667   46.968833  43.010667   47.180500   33.125833   \n",
       "std    16.255323   30.170129   41.998067  32.757735   32.716312   35.196515   \n",
       "min     9.652000    2.286000    6.858000   6.350000    8.382000    0.254000   \n",
       "25%    21.463000   14.922500   14.478000  14.668500   25.654000    9.525000   \n",
       "50%    42.799000   31.877000   35.687000  30.988000   38.100000   23.114000   \n",
       "75%    46.863000   41.783000   70.993000  72.580500   62.166500   46.228000   \n",
       "max    56.896000  106.934000  149.352000  92.202000  131.064000  126.746000   \n",
       "\n",
       "            y2013       y2014       y2015      y2016       y2017  \n",
       "count   12.000000   12.000000   12.000000  12.000000   12.000000  \n",
       "mean    72.284167   49.889833   56.980667  36.512500   46.545500  \n",
       "std    125.809508   33.508307   57.141977  30.502529   40.999512  \n",
       "min      6.858000   17.272000    3.556000   9.398000   11.430000  \n",
       "25%     14.795500   27.686000    9.652000  11.811000   18.224500  \n",
       "50%     32.131000   40.894000   45.593000  25.019000   36.322000  \n",
       "75%     59.563000   53.911500   80.200500  53.340000   51.943000  \n",
       "max    461.264000  116.078000  198.628000  97.536000  159.766000  "
      ]
     },
     "execution_count": 7,
     "metadata": {},
     "output_type": "execute_result"
    }
   ],
   "source": [
    "# BEGIN SOLUTION\n",
    "\n",
    "precip_2007_to_2017_months.describe()\n",
    "\n",
    "# END SOLUTION"
   ]
  },
  {
   "cell_type": "code",
   "execution_count": 8,
   "metadata": {
    "nbgrader": {
     "grade": true,
     "grade_id": "visible-plot-tests",
     "locked": true,
     "points": 6,
     "schema_version": 3,
     "solution": false,
     "task": false
    }
   },
   "outputs": [
    {
     "name": "stdout",
     "output_type": "stream",
     "text": [
      "Results for test 'assert_work_dir':\n",
      " Pass! Your working directory is correct. (2 points)\n",
      "Results for test 'assert_axis_label_contains':\n",
      " Pass! Your x axis label contains the appropriate keywords. (2 points)\n",
      "Results for test 'assert_axis_label_contains':\n",
      " Pass! Your y axis label contains the appropriate keywords and units identified. (2 points)\n",
      "Results for test 'assert_title_contains':\n",
      " Pass! Plot title contains the appropriate keywords. (2 points)\n"
     ]
    },
    {
     "data": {
      "text/plain": [
       "8"
      ]
     },
     "execution_count": 8,
     "metadata": {},
     "output_type": "execute_result"
    }
   ],
   "source": [
    "# Locked Grading Cell\n",
    "## Visible test\n",
    "hw_plot1 = ts.TimeSeriesTester(ts_1_plot)\n",
    "\n",
    "plot_x_lab_test = run_test(hw_plot1.assert_axis_label_contains, 2, axis=\"x\", lst=[\"Month\"],\n",
    "                  correct_message=\"Your x axis label contains the appropriate keywords.\",\n",
    "                  error_message=\"Check your x axis label for a more appropriate label.\")\n",
    "results.append(plot_x_lab_test)\n",
    "\n",
    "plot_y_lab_test = run_test(hw_plot1.assert_axis_label_contains, 2, axis=\"y\", lst=[\"Precip\", \"mm\"], \n",
    "                  correct_message=\"Your y axis label contains the appropriate keywords and units identified.\",\n",
    "                  error_message=\"Check your y axis label for a more appropriate label with units identified.\")\n",
    "results.append(plot_y_lab_test)\n",
    "\n",
    "plot_title_test = run_test(hw_plot1.assert_title_contains, 2, [\"Month\", \"Precip\", \"2013\"],\n",
    "                   correct_message=\"Plot title contains the appropriate keywords.\",\n",
    "                   error_message=\"Check your plot title words for a more appropriate title.\")\n",
    "results.append(plot_title_test)\n",
    "\n",
    "output_results(results)"
   ]
  },
  {
   "cell_type": "code",
   "execution_count": 9,
   "metadata": {
    "nbgrader": {
     "grade": true,
     "grade_id": "hidden-plot-tests",
     "locked": true,
     "points": 9,
     "schema_version": 3,
     "solution": false,
     "task": false
    }
   },
   "outputs": [
    {
     "name": "stdout",
     "output_type": "stream",
     "text": [
      "Results for test 'assert_work_dir':\n",
      " Pass! Your working directory is correct. (2 points)\n",
      "Results for test 'assert_axis_label_contains':\n",
      " Pass! Your x axis label contains the appropriate keywords. (2 points)\n",
      "Results for test 'assert_axis_label_contains':\n",
      " Pass! Your y axis label contains the appropriate keywords and units identified. (2 points)\n",
      "Results for test 'assert_title_contains':\n",
      " Pass! Plot title contains the appropriate keywords. (2 points)\n",
      "Results for test 'assert_plot_type':\n",
      " Pass! Your plot is of the correct type. (3 points)\n",
      "Results for test 'assert_xydata':\n",
      " Pass! Plot includes correct data (6 points)\n"
     ]
    },
    {
     "data": {
      "text/plain": [
       "17"
      ]
     },
     "execution_count": 9,
     "metadata": {},
     "output_type": "execute_result"
    }
   ],
   "source": [
    "### BEGIN HIDDEN TESTS\n",
    "\n",
    "plot_type_test = run_test(hw_plot1.assert_plot_type, 3, 'line', \n",
    "                 correct_message=\"Your plot is of the correct type.\",\n",
    "                 error_message=\"Check your plot type.\")\n",
    "results.append(plot_type_test)\n",
    "\n",
    "# Create expected data: full correct answer\n",
    "precip_2007_to_2017_months = pd.read_csv(\"data/earthpy-downloads/boulder-precip-2007-to-2017-months-seasons.csv\")\n",
    "precip_2007_to_2017_months.reset_index(inplace=True)\n",
    "precip_2013 = precip_2007_to_2017_months[[\"index\", \"y2013\"]]\n",
    "\n",
    "# Add test to ensure the df has the correct values\n",
    "data_test = run_test(hw_plot1.assert_xydata, 6, xy_expected=precip_2013, \n",
    "                correct_message=\"Plot includes correct data\",\n",
    "                error_message=\"Check your plot data.\",\n",
    "                xcol=\"index\",\n",
    "                ycol=\"y2013\")\n",
    "\n",
    "results.append(data_test)\n",
    "\n",
    "output_results(results)\n",
    "\n",
    "### END HIDDEN TESTS"
   ]
  }
 ],
 "metadata": {
  "celltoolbar": "Create Assignment",
  "kernelspec": {
   "display_name": "Python 3",
   "language": "python",
   "name": "python3"
  },
  "language_info": {
   "codemirror_mode": {
    "name": "ipython",
    "version": 3
   },
   "file_extension": ".py",
   "mimetype": "text/x-python",
   "name": "python",
   "nbconvert_exporter": "python",
   "pygments_lexer": "ipython3",
   "version": "3.7.3"
  },
  "varInspector": {
   "cols": {
    "lenName": 16,
    "lenType": 16,
    "lenVar": 40
   },
   "kernels_config": {
    "python": {
     "delete_cmd_postfix": "",
     "delete_cmd_prefix": "del ",
     "library": "var_list.py",
     "varRefreshCmd": "print(var_dic_list())"
    },
    "r": {
     "delete_cmd_postfix": ") ",
     "delete_cmd_prefix": "rm(",
     "library": "var_list.r",
     "varRefreshCmd": "cat(var_dic_list()) "
    }
   },
   "types_to_exclude": [
    "module",
    "function",
    "builtin_function_or_method",
    "instance",
    "_Feature"
   ],
   "window_display": false
  }
 },
 "nbformat": 4,
 "nbformat_minor": 2
}
