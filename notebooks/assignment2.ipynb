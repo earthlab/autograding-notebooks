{
 "cells": [
  {
   "cell_type": "markdown",
   "metadata": {},
   "source": [
    "# Testing partial credit"
   ]
  },
  {
   "cell_type": "code",
   "execution_count": 30,
   "metadata": {},
   "outputs": [],
   "source": [
    "import pandas\n",
    "import numpy\n",
    "import traceback"
   ]
  },
  {
   "cell_type": "markdown",
   "metadata": {},
   "source": [
    "Create a dataframe using the following dates as the index, columns A through D, and values randomly generated between 0 and 1."
   ]
  },
  {
   "cell_type": "code",
   "execution_count": 29,
   "metadata": {
    "nbgrader": {
     "grade": false,
     "grade_id": "cell-15160cff34fb7f0e",
     "locked": false,
     "schema_version": 3,
     "solution": true,
     "task": false
    }
   },
   "outputs": [],
   "source": [
    "dates = pandas.date_range('20180101', periods=6)\n",
    "columns=list('ABCD')\n",
    "# BEGIN SOLUTION\n",
    "df = pandas.DataFrame(numpy.random.rand(6, 4), index=dates, columns=list('ABCD'))\n",
    "# END SOLUTION"
   ]
  },
  {
   "cell_type": "code",
   "execution_count": 28,
   "metadata": {
    "nbgrader": {
     "grade": true,
     "grade_id": "cell-72bfeac02452b3f2",
     "locked": true,
     "points": 1,
     "schema_version": 3,
     "solution": false,
     "task": false
    }
   },
   "outputs": [
    {
     "data": {
      "text/plain": [
       "1.0"
      ]
     },
     "execution_count": 28,
     "metadata": {},
     "output_type": "execute_result"
    }
   ],
   "source": [
    "points = 0\n",
    "# test that df is the right shape (0.5 points)\n",
    "df.shape\n",
    "if df.shape == (6,4):\n",
    "    points += 0.5\n",
    "    \n",
    "# test that range of values is correct (0.5 points)\n",
    "if (df.to_numpy().max() <= 1.0) and (df.to_numpy().min() >= 0):\n",
    "    points += 0.5\n",
    "\n",
    "# must output points\n",
    "points"
   ]
  },
  {
   "cell_type": "markdown",
   "metadata": {},
   "source": [
    "## Error handling\n",
    "\n",
    "If the cell throws an error, we won't get the partial credit output. If we want to capture any errors, one option is to output in stdout. Note also in the following the lack of association between task cells (that student completes) and autograded test cells - this autograde has no connection with any task cell. "
   ]
  },
  {
   "cell_type": "code",
   "execution_count": 31,
   "metadata": {
    "nbgrader": {
     "grade": true,
     "grade_id": "cell-7e33f16edc78a713",
     "locked": true,
     "points": 3,
     "schema_version": 3,
     "solution": false,
     "task": false
    }
   },
   "outputs": [
    {
     "name": "stdout",
     "output_type": "stream",
     "text": [
      "name 'c' is not defined\n",
      "division by zero\n"
     ]
    },
    {
     "name": "stderr",
     "output_type": "stream",
     "text": [
      "Traceback (most recent call last):\n",
      "  File \"<ipython-input-31-ae511fe498b3>\", line 17, in <module>\n",
      "    a/c\n",
      "NameError: name 'c' is not defined\n",
      "Traceback (most recent call last):\n",
      "  File \"<ipython-input-31-ae511fe498b3>\", line 26, in <module>\n",
      "    a/d\n",
      "ZeroDivisionError: division by zero\n"
     ]
    },
    {
     "data": {
      "text/plain": [
       "0.3333333333333333"
      ]
     },
     "execution_count": 31,
     "metadata": {},
     "output_type": "execute_result"
    }
   ],
   "source": [
    "credit = 0\n",
    "totalcredit = 3\n",
    "a = 6\n",
    "b = 5\n",
    "d = 0\n",
    "\n",
    "# test 1\n",
    "try:\n",
    "    a*b\n",
    "except NameError as ne:\n",
    "    print(ne)\n",
    "else:\n",
    "    credit+=1\n",
    "\n",
    "# test 2\n",
    "try:\n",
    "    a/c\n",
    "except NameError as ne:\n",
    "    print(ne)\n",
    "    traceback.print_exc()\n",
    "else:\n",
    "    credit+=1\n",
    "\n",
    "# test 2\n",
    "try:\n",
    "    a/d\n",
    "except ZeroDivisionError as ze:\n",
    "    print(ze)\n",
    "    traceback.print_exc()\n",
    "else:\n",
    "    credit+=1\n",
    "\n",
    "credit/totalcredit\n",
    "# it would be cleaner (here, and in the code) to return the actual points, rather than the fraction (but that \n",
    "# goes against what we discussed in the original issue, so check with Jess)"
   ]
  },
  {
   "cell_type": "code",
   "execution_count": 32,
   "metadata": {},
   "outputs": [
    {
     "data": {
      "text/plain": [
       "0.75"
      ]
     },
     "execution_count": 32,
     "metadata": {},
     "output_type": "execute_result"
    }
   ],
   "source": [
    "# can also put the tests in a run method (unless there are issues with scope of variables)\n",
    "def run_tests():\n",
    "    credit = 3\n",
    "    totalcredit = 4\n",
    "    return credit/totalcredit\n",
    "    \n",
    "run_tests()"
   ]
  },
  {
   "cell_type": "code",
   "execution_count": null,
   "metadata": {},
   "outputs": [],
   "source": []
  }
 ],
 "metadata": {
  "celltoolbar": "Create Assignment",
  "kernelspec": {
   "display_name": "Python 3",
   "language": "python",
   "name": "python3"
  },
  "language_info": {
   "codemirror_mode": {
    "name": "ipython",
    "version": 3
   },
   "file_extension": ".py",
   "mimetype": "text/x-python",
   "name": "python",
   "nbconvert_exporter": "python",
   "pygments_lexer": "ipython3",
   "version": "3.7.3"
  }
 },
 "nbformat": 4,
 "nbformat_minor": 2
}
