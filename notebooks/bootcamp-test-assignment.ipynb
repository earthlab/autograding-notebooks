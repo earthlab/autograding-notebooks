{
 "cells": [
  {
   "cell_type": "markdown",
   "metadata": {},
   "source": [
    "## Assignment\n",
    "\n",
    "You will be asked to work with NOAA climate data: <a href=\"https://www.esrl.noaa.gov/psd/boulder/Boulder.mm.html\" target=\"_blank\">temperature</a> and <a href=\"https://www.esrl.noaa.gov/psd/boulder/Boulder.mm.precip.html\" target=\"_blank\">precipitation</a> for various months and years of data for  Boulder, Colorado, provided by the U.S. National Oceanic and Atmospheric Administration (NOAA).\n",
    "\n",
    "In your home directory, you will need a subdirectory called `earth-analytics-bootcamp` that has a subdirectory called `data`. "
   ]
  },
  {
   "cell_type": "markdown",
   "metadata": {},
   "source": [
    "### Question 1: Import Python Packages\n",
    "\n",
    "In the questions below, you will need to import the necessary `Python` packages to accomplish the following tasks: \n",
    "\n",
    "1. Set your working directory to `earth-analytics-bootcamp` in your home directory.\n",
    "2. Download a CSV file using `urllib.request`.\n",
    "3. Import data into `pandas dataframes`.\n",
    "4. Creating plots of your data using `matplotlib`."
   ]
  },
  {
   "cell_type": "code",
   "execution_count": 1,
   "metadata": {
    "tags": [
     "hide"
    ]
   },
   "outputs": [],
   "source": [
    "# Import necessary Python packages\n",
    "\n",
    "# BEGIN SOLUTION\n",
    "import os\n",
    "import urllib.request\n",
    "import matplotlib.pyplot as plt\n",
    "import pandas as pd\n",
    "import earthpy as et\n",
    "\n",
    "# END SOLUTION\n",
    "\n",
    "### DO NOT REMOVE LINES BELOW ###\n",
    "import matplotcheck.notebook as nb\n",
    "import matplotcheck.timeseries as ts"
   ]
  },
  {
   "cell_type": "markdown",
   "metadata": {},
   "source": [
    "### Question 2: Download Data and Plot\n",
    "\n",
    "Set your working directory to `earth-analytics-bootcamp` and use `.urllib.request` to download the following .csv file to your `data` subdirectory:\n",
    "\n",
    "* `boulder-precip-2007-to-2017-months-seasons.csv` from `https://ndownloader.figshare.com/files/12767933`\n",
    "    * This dataset contains a row for each month (starting with January through December) and contains a column for each year (2007 to 2017). \n",
    "    \n",
    "Import the data to a `pandas dataframe` and create a line plot for **2007** using `matplotlib`. \n",
    "\n",
    "Be sure to include:\n",
    "1. An appropriate plot title.\n",
    "2. Clear labels for the axes (including units of measurements where apppropriate)."
   ]
  },
  {
   "cell_type": "code",
   "execution_count": 2,
   "metadata": {},
   "outputs": [
    {
     "data": {
      "image/png": "[encoded data removed]",
      "text/plain": [
       "<Figure size 432x288 with 1 Axes>"
      ]
     },
     "metadata": {
      "needs_background": "light"
     },
     "output_type": "display_data"
    }
   ],
   "source": [
    "# Create plot for 2007\n",
    "\n",
    "# BEGIN SOLUTION\n",
    "\n",
    "# Set working directory\n",
    "os.chdir(os.path.join(et.io.HOME, 'earth-analytics-bootcamp'))\n",
    "\n",
    "# Download the monthly average precipitation values\n",
    "urllib.request.urlretrieve(url = \"https://ndownloader.figshare.com/files/12767933\", \n",
    "                           filename = \"data/boulder-precip-2007-to-2017-months-seasons.csv\")\n",
    "\n",
    "# Import to pandas dataframe\n",
    "precip_2007_to_2017_months = pd.read_csv(\"data/boulder-precip-2007-to-2017-months-seasons.csv\")\n",
    "\n",
    "fig, ax = plt.subplots()\n",
    "\n",
    "# Add the x-axis and the y-axis to the plot\n",
    "ax.plot(precip_2007_to_2017_months.months, precip_2007_to_2017_months.y2007, color=\"blue\")\n",
    "\n",
    "# Set plot title\n",
    "ax.set(title=\"Monthly Precipitation in 2007 for Boulder, CO\")\n",
    "\n",
    "# Add labels to the axes\n",
    "ax.set(xlabel=\"Month\", ylabel=\"Precipitation (mm)\")\n",
    "    \n",
    "# rotate tick marks on x-axis\n",
    "plt.setp(ax.get_xticklabels(), rotation=45);\n",
    "\n",
    "# END SOLUTION\n",
    "\n",
    "### DO NOT REMOVE LINE BELOW ###\n",
    "ts_1_plot = nb.convert_axes(plt)"
   ]
  },
  {
   "cell_type": "code",
   "execution_count": 3,
   "metadata": {},
   "outputs": [],
   "source": [
    "def run_test(func, points, *args, correct_message=\"default correct\", error_message=\"default error\", **kwargs):\n",
    "    results = {\"points\": 0, \"pass\": False}\n",
    "    score = 0\n",
    "    try:\n",
    "        fname = func.__name__\n",
    "        results['description'] = fname\n",
    "        func(*args, **kwargs)\n",
    "    except Exception as e:\n",
    "        results['message'] = error_message\n",
    "        results['traceback'] = e\n",
    "        pass\n",
    "    else:\n",
    "        results['pass'] = True\n",
    "        results['message'] = correct_message\n",
    "        results['points'] = points\n",
    "    \n",
    "    return results\n",
    "   \n",
    "def output_results(results):\n",
    "    points = 0\n",
    "    for r in results:\n",
    "        points += r['points']\n",
    "        print(\"Results for test '{}':\".format(r['description']))\n",
    "        if (r['pass']):\n",
    "            print(\" Pass! {msg} ({p} points)\".format(msg=r['message'],p=r['points']))\n",
    "        else:\n",
    "            print(\" Fail! {msg} ({p} points)\".format(msg=r['message'],p=r['points']))\n",
    "            print(\" Traceback: {t}\".format(t=r['traceback']))\n",
    "    return points"
   ]
  },
  {
   "cell_type": "code",
   "execution_count": 4,
   "metadata": {},
   "outputs": [
    {
     "name": "stdout",
     "output_type": "stream",
     "text": [
      "Results for test 'assert_plot_type':\n",
      " Pass! Your plot is indeed a line plot. (3 points)\n",
      "Results for test 'assert_axis_label_contains':\n",
      " Pass! Your x axis label appropriately contains the word Month (2 points)\n",
      "Results for test 'assert_axis_label_contains':\n",
      " Pass! Your y axis label appropriately contains the word 'Precip' and identifies the units (2 points)\n",
      "Results for test 'assert_title_contains':\n",
      " Pass! Plot title appropriately contains the words 'Month', 'Precip', and '2007' (2 points)\n"
     ]
    },
    {
     "data": {
      "text/plain": [
       "9"
      ]
     },
     "execution_count": 4,
     "metadata": {},
     "output_type": "execute_result"
    }
   ],
   "source": [
    "# Locked Grading Cell - Homework Plot 1\n",
    "hw_plot1 = ts.TimeSeriesTester(ts_1_plot)\n",
    "\n",
    "results = []\n",
    "\n",
    "plot_type_test = run_test(hw_plot1.assert_plot_type, 3, 'line', \n",
    "             correct_message=\"Your plot is indeed a line plot.\",\n",
    "             error_message=\"Check that your plot is a line plot.\")\n",
    "results.append(plot_type_test)\n",
    "\n",
    "plot_x_lab_test = run_test(hw_plot1.assert_axis_label_contains, 2, axis=\"x\", lst=[\"Month\"],\n",
    "                  correct_message=\"Your x axis label appropriately contains the word Month\",\n",
    "                  error_message=\"Check your x axis label for a more appropriate label\")\n",
    "results.append(plot_x_lab_test)\n",
    "\n",
    "plot_y_lab_test = run_test(hw_plot1.assert_axis_label_contains, 2, axis=\"y\", lst=[\"Precip\", \"mm\"], \n",
    "                  correct_message=\"Your y axis label appropriately contains the word 'Precip' and identifies the units\",\n",
    "                  error_message=\"Check your y axis label for a more appropriate label with units identified.\")\n",
    "results.append(plot_y_lab_test)\n",
    "\n",
    "plot_title_test = run_test(hw_plot1.assert_title_contains, 2, [\"Month\", \"Precip\", \"2007\"],\n",
    "                   correct_message=\"Plot title appropriately contains the words 'Month', 'Precip', and '2007'\",\n",
    "                   error_message=\"Check your plot title words for a more appropriate title.\")\n",
    "results.append(plot_title_test)\n",
    "\n",
    "output_results(results)"
   ]
  },
  {
   "cell_type": "code",
   "execution_count": 5,
   "metadata": {},
   "outputs": [
    {
     "name": "stdout",
     "output_type": "stream",
     "text": [
      "Results for test 'assert_plot_type':\n",
      " Pass! Your plot is indeed a line plot. (3 points)\n",
      "Results for test 'assert_axis_label_contains':\n",
      " Pass! Your x axis label appropriately contains the word Month (2 points)\n",
      "Results for test 'assert_axis_label_contains':\n",
      " Pass! Your y axis label appropriately contains the word 'Precip' and identifies the units (2 points)\n",
      "Results for test 'assert_title_contains':\n",
      " Pass! Plot title appropriately contains the words 'Month', 'Precip', and '2007' (2 points)\n",
      "Results for test 'assert_xydata':\n",
      " Fail! Check your plot data. (0 points)\n",
      " Traceback: Incorrect data values\n"
     ]
    },
    {
     "data": {
      "text/plain": [
       "9"
      ]
     },
     "execution_count": 5,
     "metadata": {},
     "output_type": "execute_result"
    }
   ],
   "source": [
    "### BEGIN HIDDEN TESTS\n",
    "\n",
    "# Add test to ensure the df has the correct values\n",
    "data_test = run_test(hw_plot1.assert_xydata, 6, xy_expected=precip_2007_to_2017_months,\n",
    "                correct_message=\"Plot includes correct data\",\n",
    "                error_message=\"Check your plot data.\",\n",
    "                xcol=\"months\",\n",
    "                ycol=\"y2007\")\n",
    "\n",
    "results.append(data_test)\n",
    "\n",
    "output_results(results)\n",
    "\n",
    "### END HIDDEN TESTS"
   ]
  },
  {
   "cell_type": "code",
   "execution_count": null,
   "metadata": {},
   "outputs": [],
   "source": []
  }
 ],
 "metadata": {
  "celltoolbar": "Edit Metadata",
  "kernelspec": {
   "display_name": "Python 3",
   "language": "python",
   "name": "python3"
  },
  "language_info": {
   "codemirror_mode": {
    "name": "ipython",
    "version": 3
   },
   "file_extension": ".py",
   "mimetype": "text/x-python",
   "name": "python",
   "nbconvert_exporter": "python",
   "pygments_lexer": "ipython3",
   "version": "3.6.7"
  }
 },
 "nbformat": 4,
 "nbformat_minor": 2
}
