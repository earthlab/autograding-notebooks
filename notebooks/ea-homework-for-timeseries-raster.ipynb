{
 "cells": [
  {
   "cell_type": "markdown",
   "metadata": {},
   "source": [
    "## Edge cases\n",
    "\n",
    "* When the number of tests and associated points doesn't add up to the total points in the cell\n",
    "* What happens when the student doesn't actually generate a plot -- \n",
    "\n",
    "### It would be cool to be able to capture and print out the specifics of the error \n",
    "* Capture the specifics of what went wrong-- and return it as a friendly error message\n",
    "* currently this all fails if the student gets things wrong! "
   ]
  },
  {
   "cell_type": "markdown",
   "metadata": {},
   "source": [
    "https://github.com/earthlab/earth-analytics-lessons/blob/master/courses/earth-analytics-python/03-intro-to-python-and-time-series-data/2018-02-05-intro-to-python-time-series-data-landing-page.ipynb\n",
    "\n",
    "## Things that we want to check\n",
    "\n",
    "1. order of package imports + all imports at the top\n",
    "2. all imports are USED in the notebook\n",
    "2. notebook starts at `ln 1`\n",
    "3. notebook RUNS (all cells run)\n",
    "4. linting -- autopep8 applied. \n"
   ]
  },
  {
   "cell_type": "markdown",
   "metadata": {
    "nbgrader": {
     "grade": false,
     "grade_id": "cell-e934ee5171599465",
     "locked": true,
     "schema_version": 3,
     "solution": false,
     "task": false
    }
   },
   "source": [
    "## Earth Analytics Homework - Use Time Series Data with Python\n",
    "![](EarthlabSquare.png)\n"
   ]
  },
  {
   "cell_type": "markdown",
   "metadata": {},
   "source": [
    "For your assignment be sure to\n",
    "\n",
    "* Load all libraries at the top of your notebook (before your code begins) in their own notebook cell.\n",
    "* Follow pep-8 code style guidelines. As you do this consider\n",
    "        # Comment spacing and capitalization\n",
    "        Write useful comments - not too many but enough to guide a reader through your workflow\n",
    "        Use line spaces and returns in your code to make it easier to read where needed\n",
    "* Label all plot x and y axes - include units as necessary\n",
    "* Format dates on the x axis so they are readable\n",
    "* Use pandas to process your data\n",
    "* Be sure to cite the source of the data used for each plot. HINT: there are metadata documents in the data folder that will help you with this.\n",
    "\n",
    "For each plot be sure to add a markdown cell below with 2-4 sentences that plot that explains what this plot shows."
   ]
  },
  {
   "cell_type": "markdown",
   "metadata": {},
   "source": [
    "# This is an actual rubric from my class. \n",
    "i'll try to download it into a text format but it's silly html right now from the LMS\n",
    "![](rubric-1.png)\n",
    "![](rubric-2.png)\n",
    "![](rubric-3.png)"
   ]
  },
  {
   "cell_type": "code",
   "execution_count": 28,
   "metadata": {},
   "outputs": [],
   "source": [
    "# Do not touch this cell. Please place the imports required from your homework in the cell below\n",
    "# <Can we lock cells?>\n",
    "% timeit\n",
    "import matplotcheck.notebook as nb\n",
    "import matplotcheck.timeseries as ts\n",
    "import matplotcheck.raster as ra"
   ]
  },
  {
   "cell_type": "markdown",
   "metadata": {},
   "source": [
    "## Grading to do\n",
    "check the cell below for (in order of importance)\n",
    "1. imports not used in the notebook\n",
    "2. order of imports folowing PEP guidelines (most common furst to third party last)\n",
    "3. spell check?"
   ]
  },
  {
   "cell_type": "code",
   "execution_count": 2,
   "metadata": {
    "nbgrader": {
     "grade": false,
     "grade_id": "cell-0b87b980ab858335",
     "locked": false,
     "schema_version": 3,
     "solution": true,
     "task": false
    }
   },
   "outputs": [],
   "source": [
    "# Add the required packages needed to run your code here\n",
    "# We normally check to see if these on in the correct order following PEP guidelines (most common first)\n",
    "# BEGIN SOLUTION\n",
    "import os\n",
    "import matplotlib.pyplot as plt\n",
    "import matplotlib.dates as mdates\n",
    "from matplotlib.dates import DateFormatter\n",
    "import seaborn as sns\n",
    "import numpy as np\n",
    "import pandas as pd\n",
    "import earthpy as et\n",
    "import hydrofunctions as hf\n",
    "import urllib\n",
    "\n",
    "from pandas.plotting import register_matplotlib_converters\n",
    "register_matplotlib_converters()\n",
    "\n",
    "# prettier plotting with seaborn\n",
    "sns.set(font_scale=1.5)\n",
    "sns.set_style(\"whitegrid\")\n",
    "\n",
    "# END SOLUTION"
   ]
  },
  {
   "cell_type": "code",
   "execution_count": 3,
   "metadata": {},
   "outputs": [],
   "source": [
    "# Get data\n",
    "data = et.data.get_data(\"colorado-flood\")\n",
    "os.chdir(os.path.join(et.io.HOME, 'earth-analytics'))"
   ]
  },
  {
   "cell_type": "markdown",
   "metadata": {},
   "source": [
    "## Homework PLOT 1 - Time series / pandas\n",
    "\n",
    "Use pandas to open and process the `data/colorado-flood/discharge/06730200-discharge-daily-1986-2013.txt` txt file. Using this data, create a plot of monthly maximum stream discharge from 1990-2014. Document your steps used to process the data in a markdown cell BELOW the plot use pandas, make sure the dataframe has a datetime index calculate a monthly max value\n",
    "\n",
    "Subset the data to the time period: `1990-2014` using pandas syntax `[\"\":\"\"]`. This means that your date column should be setup as an index."
   ]
  },
  {
   "cell_type": "code",
   "execution_count": 18,
   "metadata": {
    "nbgrader": {
     "grade": false,
     "grade_id": "cell-1e84b456be53a702",
     "locked": false,
     "schema_version": 3,
     "solution": true
    }
   },
   "outputs": [],
   "source": [
    "# BEGIN SOLUTION\n",
    "\n",
    "# import file\n",
    "f = \"data/colorado-flood/discharge/06730200-discharge-daily-1986-2013.txt\"\n",
    "discharge = pd.read_csv(f,\n",
    "                        skiprows=23,\n",
    "                        header=[1, 2],\n",
    "                        sep='\\t',\n",
    "                        parse_dates=[2])\n",
    "# drop one level of index\n",
    "discharge.columns = discharge.columns.droplevel(1)\n",
    "# set the date column as the index\n",
    "discharge = discharge.set_index([\"datetime\"])\n",
    "\n",
    "monthly_max_all = discharge.resample(\"M\").max()\n",
    "monthly_max = monthly_max_all['1990':'2014']\n",
    "\n",
    "fig, ax = plt.subplots(figsize=(10, 8))\n",
    "ax.scatter(x=monthly_max.index,\n",
    "           y=monthly_max[\"17663_00060_00003\"],\n",
    "           color=\"purple\")\n",
    "ax.set_title(\n",
    "    \"HW Plot 1: Stream Discharge - Monthly Max Value\\n be sure to add x and y labels (not shown here)\")\n",
    "\n",
    "ax.set(xlabel=\"Date\")\n",
    "\n",
    "# I believe we aren't supposed to use plt.show()\n",
    "#plt.show()\n",
    "\n",
    "# END SOLUTION\n",
    "\n",
    "### DO NOT REMOVE LINE BELOW ###\n",
    "ts_1_plot = nb.convert_axes(plt)"
   ]
  },
  {
   "cell_type": "code",
   "execution_count": 24,
   "metadata": {},
   "outputs": [],
   "source": [
    "# not sure how to do this. also i remember yuvi having a way to do this that was language agnostic.\n",
    "def run_test(test, total_points, correct_message, error_message):\n",
    "    # test each input\n",
    "\n",
    "    single_result = {\"test_desc\": 'Plot Structure', \"points\": 0}\n",
    "    try:\n",
    "        test\n",
    "        single_result[\"points\"] = total_points\n",
    "        single_result[\"message\"] = correct_message\n",
    "    except AssertionError as e:\n",
    "        single_result[\"message\"] = error_message\n",
    "        single_result[\"error_specifics\"] = e.message\n",
    "        \n",
    "    return single_result\n",
    "    \n",
    "def run_all_tests(list_of_tests):\n",
    "    total_points = 0\n",
    "    all_results = []\n",
    "    for a_test in list_of_tests:\n",
    "        result = run_test(a_test[0],a_test[1],a_test[2],a_test[3]) \n",
    "        points = result[\"points\"]\n",
    "        total_points += points\n",
    "        all_results.append(result)\n",
    "    \n",
    "    # Print out tests - this could be a little print helper too?\n",
    "    for r in all_results:\n",
    "        #total_points += float(r['points'])\n",
    "        print(\"Testing {}. {} Specific Error: {} (points = {})\".format(\n",
    "            r['test_desc'], r['message'], r['error_specifics'], r['points']))\n",
    "    print(\"You recieved \", total_points, \" points for this set of tests\")\n",
    "    return total_points"
   ]
  },
  {
   "cell_type": "code",
   "execution_count": 25,
   "metadata": {
    "nbgrader": {
     "grade": true,
     "grade_id": "cell-edddd14f91416adb",
     "locked": true,
     "points": 4,
     "schema_version": 3,
     "solution": false,
     "task": false
    }
   },
   "outputs": [
    {
     "ename": "AssertionError",
     "evalue": "Plot is not of type line",
     "output_type": "error",
     "traceback": [
      "\u001b[0;31m---------------------------------------------------------------------------\u001b[0m",
      "\u001b[0;31mAssertionError\u001b[0m                            Traceback (most recent call last)",
      "\u001b[0;32m<ipython-input-25-b50e01de150c>\u001b[0m in \u001b[0;36m<module>\u001b[0;34m()\u001b[0m\n\u001b[1;32m      3\u001b[0m \u001b[0;34m\u001b[0m\u001b[0m\n\u001b[1;32m      4\u001b[0m \u001b[0;31m# Public tests\u001b[0m\u001b[0;34m\u001b[0m\u001b[0;34m\u001b[0m\u001b[0;34m\u001b[0m\u001b[0m\n\u001b[0;32m----> 5\u001b[0;31m plot_type_test = [hw_plot1.assert_plot_type(\"line\"), 1,\n\u001b[0m\u001b[1;32m      6\u001b[0m                   \u001b[0;34m\"Plot type Pass! You plot is a scatter plot!\"\u001b[0m\u001b[0;34m,\u001b[0m\u001b[0;34m\u001b[0m\u001b[0;34m\u001b[0m\u001b[0m\n\u001b[1;32m      7\u001b[0m                   \"Ooops, please check to ensure your plot is a scatter plot.\"]\n",
      "\u001b[0;32m~/Documents/github/0-python/matplotcheck/matplotcheck/base.py\u001b[0m in \u001b[0;36massert_plot_type\u001b[0;34m(self, plot_type)\u001b[0m\n\u001b[1;32m     96\u001b[0m             \u001b[0;32melif\u001b[0m \u001b[0mplot_type\u001b[0m \u001b[0;34m==\u001b[0m \u001b[0;34m\"line\"\u001b[0m\u001b[0;34m:\u001b[0m\u001b[0;34m\u001b[0m\u001b[0;34m\u001b[0m\u001b[0m\n\u001b[1;32m     97\u001b[0m                 assert self._is_line(), \"Plot is not of type {0}\".format(\n\u001b[0;32m---> 98\u001b[0;31m                     \u001b[0mplot_type\u001b[0m\u001b[0;34m\u001b[0m\u001b[0;34m\u001b[0m\u001b[0m\n\u001b[0m\u001b[1;32m     99\u001b[0m                 )\n\u001b[1;32m    100\u001b[0m             \u001b[0;32melse\u001b[0m\u001b[0;34m:\u001b[0m\u001b[0;34m\u001b[0m\u001b[0;34m\u001b[0m\u001b[0m\n",
      "\u001b[0;31mAssertionError\u001b[0m: Plot is not of type line"
     ]
    }
   ],
   "source": [
    "# Locked Grading Cell - Homework plot 1 -\n",
    "hw_plot1 = ts.TimeSeriesTester(ts_1_plot)\n",
    "\n",
    "# Public tests\n",
    "plot_type_test = [hw_plot1.assert_plot_type(\"line\"), 1,\n",
    "                  \"Plot type Pass! You plot is a scatter plot!\",\n",
    "                  \"Ooops, please check to ensure your plot is a scatter plot.\"]\n",
    "\n",
    "plot_title_test = [hw_plot1.assert_title_contains([\"Stream discharge\"]), 1,\n",
    "                   \"Plot title contains the words `Stream discharge`\",\n",
    "                   \"Oops, please make sure your plot title words\"]\n",
    "plot_xticks_date_test = [hw_plot1.assert_xticks_reformatted(\n",
    "    tick_size=\"large\", loc_exp=\"year\", m=\"Please fix this\"), 1,\n",
    "    \"X ticks pass! dates are formatted as years\",\n",
    "    \"X ticks fail! Dates should be formated using year\"]\n",
    "plot_x_lab_test = [hw_plot1.assert_axis_label_contains(axis=\"x\", lst=[\"Date\"]),\n",
    "                   1,\n",
    "                   \"X label test pass! X axis contains the word `Date`\",\n",
    "                   \"X label test fail! X axis should contain a lable with the word `Date` in it\"]\n",
    "\n",
    "run_all_tests([plot_type_test,\n",
    "               plot_title_test,\n",
    "               plot_xticks_date_test,\n",
    "               plot_x_lab_test])"
   ]
  },
  {
   "cell_type": "code",
   "execution_count": 7,
   "metadata": {
    "nbgrader": {
     "grade": true,
     "grade_id": "cell-6a9846a1521e9b39",
     "locked": true,
     "points": 6,
     "schema_version": 3,
     "solution": false,
     "task": false
    }
   },
   "outputs": [
    {
     "name": "stdout",
     "output_type": "stream",
     "text": [
      "Testing Plot Structure. Testing plot data: Your data look correct (points = 6)\n",
      "You recieved  6  points for this set of tests\n"
     ]
    },
    {
     "name": "stderr",
     "output_type": "stream",
     "text": [
      "/anaconda3/envs/earth-analytics-python/lib/python3.6/site-packages/numpy/core/numeric.py:2586: FutureWarning: Converting timezone-aware DatetimeArray to timezone-naive ndarray with 'datetime64[ns]' dtype. In the future, this will return an ndarray with 'object' dtype where each element is a 'pandas.Timestamp' with the correct 'tz'.\n",
      "\tTo accept the future behavior, pass 'dtype=object'.\n",
      "\tTo keep the old behavior, pass 'dtype=\"datetime64[ns]\"'.\n",
      "  a1, a2 = asarray(a1), asarray(a2)\n"
     ]
    },
    {
     "data": {
      "text/plain": [
       "6"
      ]
     },
     "execution_count": 7,
     "metadata": {},
     "output_type": "execute_result"
    }
   ],
   "source": [
    "### BEGIN HIDDEN TESTS\n",
    "# Add test to ensure the df has the correct values\n",
    "\n",
    "data_test = [hw_plot1.assert_xydata(xy_expected=monthly_max.reset_index(),\n",
    "                                    xtime=True,\n",
    "                                    xcol=\"datetime\",\n",
    "                                    ycol=\"17663_00060_00003\"), 6,\n",
    "             \"Testing plot data: Your data look correct\",\n",
    "             \"Testing plot data: Ooops the data in your plot don't look right\"]\n",
    "run_all_tests([data_test])\n",
    "\n",
    "### END HIDDEN TESTS\n",
    "\n",
    "# Note i think i probably need to update MPL and did submit an issue about the warning \n",
    "# i see below. i think i understand what to fix!"
   ]
  },
  {
   "cell_type": "code",
   "execution_count": 8,
   "metadata": {
    "nbgrader": {
     "grade": true,
     "grade_id": "plot-1-tests",
     "locked": true,
     "points": 10,
     "schema_version": 3,
     "solution": false
    }
   },
   "outputs": [
    {
     "name": "stderr",
     "output_type": "stream",
     "text": [
      "/anaconda3/envs/earth-analytics-python/lib/python3.6/site-packages/numpy/core/numeric.py:2586: FutureWarning: Converting timezone-aware DatetimeArray to timezone-naive ndarray with 'datetime64[ns]' dtype. In the future, this will return an ndarray with 'object' dtype where each element is a 'pandas.Timestamp' with the correct 'tz'.\n",
      "\tTo accept the future behavior, pass 'dtype=object'.\n",
      "\tTo keep the old behavior, pass 'dtype=\"datetime64[ns]\"'.\n",
      "  a1, a2 = asarray(a1), asarray(a2)\n"
     ]
    },
    {
     "data": {
      "text/plain": [
       "10"
      ]
     },
     "execution_count": 8,
     "metadata": {},
     "output_type": "execute_result"
    }
   ],
   "source": [
    "# Tests not using wrappers\n",
    "points = 10\n",
    "\n",
    "# Locked Grading Cell - Homework plot 1 -\n",
    "hw_plot1 = ts.TimeSeriesTester(ts_1_plot)\n",
    "\n",
    "# Plot type and title tests (5)\n",
    "if hw_plot1.assert_plot_type(\"scatter\"):\n",
    "    points += 1\n",
    "if hw_plot1.assert_title_contains([\"Stream discharge\"]):\n",
    "    points += 1\n",
    "\n",
    "\n",
    "# Plot axis tests\n",
    "if hw_plot1.assert_xticks_reformatted(tick_size=\"large\", loc_exp=\"year\", m=\"Please fix this\"):\n",
    "    points += 1\n",
    "\n",
    "if hw_plot1.assert_axis_label_contains(axis=\"x\", lst=[\"Date\"]):\n",
    "    points += 1\n",
    "\n",
    "# BEGIN HIDDEN TESTS\n",
    "# Add test to ensure the df has the correct values\n",
    "if hw_plot1.assert_xydata(xy_expected=monthly_max.reset_index(),\n",
    "                          xtime=True,\n",
    "                          xcol=\"datetime\",\n",
    "                          ycol=\"17663_00060_00003\",\n",
    "                          m=\"oops - you messed up\"):\n",
    "    points += 6\n",
    "\n",
    "# END HIDDEN TESTS\n",
    "points"
   ]
  },
  {
   "cell_type": "code",
   "execution_count": 9,
   "metadata": {},
   "outputs": [
    {
     "name": "stdout",
     "output_type": "stream",
     "text": [
      "Testing Are x-axis ticks reformatted?. Result:  Looks good! (points = 1)\n"
     ]
    },
    {
     "data": {
      "text/plain": [
       "1.0"
      ]
     },
     "execution_count": 9,
     "metadata": {},
     "output_type": "execute_result"
    }
   ],
   "source": [
    "# testing wrapper function\n",
    "# this was karen's original take on the testing! note that all tests pass in this notebook so \n",
    "# havent tried to break things yet\n",
    "\n",
    "def run_tests(plot):\n",
    "    results = []\n",
    "    total_points = 0\n",
    "\n",
    "    single_result = {\"test_desc\": 'Are x-axis ticks reformatted?', \"points\": 0}\n",
    "    try:\n",
    "        hw_plot1.assert_xticks_reformatted(\n",
    "            tick_size=\"large\", loc_exp=\"year\", m=\"Please fix this\")\n",
    "        single_result[\"points\"] = 1\n",
    "        single_result[\"message\"] = \"Looks good!\"\n",
    "    except AssertionError:\n",
    "        single_result[\"message\"] = \"x ticks have not been reformatted properly\"\n",
    "    results.append(single_result)\n",
    "\n",
    "    for r in results:\n",
    "        total_points += float(r['points'])\n",
    "        print(\"Testing {}. Result:  {} (points = {})\".format(\n",
    "            r['test_desc'], r['message'], r['points']))\n",
    "\n",
    "    return total_points\n",
    "\n",
    "\n",
    "hw_plot1 = ts.TimeSeriesTester(ts_1_plot)\n",
    "run_tests(hw_plot1)"
   ]
  },
  {
   "cell_type": "markdown",
   "metadata": {},
   "source": [
    "If all tests pass above it would be nice to be able to provide a custom message that says -- all looks good... "
   ]
  },
  {
   "cell_type": "markdown",
   "metadata": {},
   "source": [
    "# Lets try this with spatial data - new homework in same notebook"
   ]
  },
  {
   "cell_type": "code",
   "execution_count": 10,
   "metadata": {
    "nbgrader": {
     "grade": false,
     "grade_id": "cell-20470dff10bb563d",
     "locked": false,
     "schema_version": 3,
     "solution": true,
     "task": false
    }
   },
   "outputs": [],
   "source": [
    "# Import your packages and download data / set working directory here\n",
    "# BEGIN SOLUTION\n",
    "import os\n",
    "from glob import glob\n",
    "import matplotlib.pyplot as plt\n",
    "import matplotlib as mpl\n",
    "import numpy as np\n",
    "\n",
    "import rasterio as rio\n",
    "from rasterio.plot import plotting_extent\n",
    "from rasterio.mask import mask\n",
    "import geopandas as gpd\n",
    "\n",
    "from shapely.geometry import mapping, box\n",
    "# to create geojson object for raster cropping\n",
    "from geojson import Polygon\n",
    "\n",
    "import earthpy as et\n",
    "import earthpy.spatial as es\n",
    "import earthpy.plot as ep\n",
    "\n",
    "# Get data and set working dir\n",
    "data1 = et.data.get_data('cs-test-naip')\n",
    "data2 = et.data.get_data('cold-springs-fire')\n",
    "# set working directory to your home dir/earth-analytics\n",
    "os.chdir(os.path.join(et.io.HOME, 'earth-analytics'))\n",
    "# END SOLUTION"
   ]
  },
  {
   "cell_type": "code",
   "execution_count": 11,
   "metadata": {
    "nbgrader": {
     "grade": false,
     "grade_id": "cell-9ea24d4868f0d1ca",
     "locked": false,
     "schema_version": 3,
     "solution": true,
     "task": false
    }
   },
   "outputs": [],
   "source": [
    "# BEGIN SOLUTION\n",
    "# Open fire boundary\n",
    "fire_bound_path = \"data/cold-springs-fire/vector_layers/fire-boundary-geomac/co_cold_springs_20160711_2200_dd83.shp\"\n",
    "fire_bound = gpd.read_file(fire_bound_path)\n",
    "\n",
    "# Open several spatial datasets\n",
    "\n",
    "# Open  NAIP 2015 data & reproject fire boundary\n",
    "with rio.open(\"data/cold-springs-fire/naip/m_3910505_nw_13_1_20150919/crop/m_3910505_nw_13_1_20150919_crop.tif\") as src:\n",
    "    #naip_2015_crop, naip_2015_affine = mask(src, [naip_clip_extent], crop=True)\n",
    "    naip_2015_crop = src.read()\n",
    "    naip_2015_bds = src.bounds\n",
    "    fire_bound_utmz13 = fire_bound.to_crs(src.crs)\n",
    "    naip_2015_ext = plotting_extent(naip_2015_crop[0], src.transform)\n",
    "    meta = src.profile\n",
    "\n",
    "# Create a geojson extent box to crop the other data\n",
    "naip_clip_extent = mapping(box(*naip_2015_bds))\n",
    "\n",
    "# Crop 2017 NAIP data to the 2015 data boundary\n",
    "with rio.open(\"data/cs-test-naip/m_3910505_nw_13_1_20170902.tif\") as src:\n",
    "    naip_2017_crop, naip_2017_affine = es.crop_image(\n",
    "        src, [box(*naip_2015_bds)])\n",
    "    naip_2017_crop = naip_2017_crop.astype(int)\n",
    "\n",
    "# END SOLUTION"
   ]
  },
  {
   "cell_type": "code",
   "execution_count": 17,
   "metadata": {
    "nbgrader": {
     "grade": false,
     "grade_id": "cell-c7f53aa769ed6018",
     "locked": false,
     "schema_version": 3,
     "solution": true,
     "task": false
    }
   },
   "outputs": [
    {
     "name": "stderr",
     "output_type": "stream",
     "text": [
      "/anaconda3/envs/earth-analytics-python/lib/python3.6/site-packages/matplotlib/figure.py:445: UserWarning: Matplotlib is currently using agg, which is a non-GUI backend, so cannot show the figure.\n",
      "  % get_backend())\n",
      "/anaconda3/envs/earth-analytics-python/lib/python3.6/site-packages/matplotlib/figure.py:445: UserWarning: Matplotlib is currently using agg, which is a non-GUI backend, so cannot show the figure.\n",
      "  % get_backend())\n",
      "/anaconda3/envs/earth-analytics-python/lib/python3.6/site-packages/matplotlib/figure.py:445: UserWarning: Matplotlib is currently using agg, which is a non-GUI backend, so cannot show the figure.\n",
      "  % get_backend())\n"
     ]
    }
   ],
   "source": [
    "# Plot the data - place your final data here\n",
    "\n",
    "# BEGIN SOLUTION\n",
    "\n",
    "# Add plot code only for plots 1 and 2 here\n",
    "fig, (ax1, ax2) = plt.subplots(2, 1, figsize=(10, 10))\n",
    "ep.plot_rgb(naip_2017_crop,\n",
    "            rgb=[0, 1, 2],\n",
    "            extent=naip_2015_ext,\n",
    "            title=\"Homework PLOT 1: NAIP 2017 Post Fire RGB Image\\n Cropped\",\n",
    "            ax=ax1)\n",
    "fire_bound_utmz13.plot(ax=ax1, color='None',\n",
    "                       edgecolor='white', linewidth=2)\n",
    "\n",
    "\n",
    "# plot 2017 cropped data\n",
    "ep.plot_rgb(naip_2017_crop,\n",
    "            rgb=[3, 0, 1],\n",
    "            extent=naip_2015_ext,\n",
    "            title=\"Homework PLOT 2: NAIP 2017 Post Fire CIR Image\",\n",
    "            ax=ax2)\n",
    "fire_bound_utmz13.plot(ax=ax2, color='None',\n",
    "                       edgecolor='white', linewidth=2)\n",
    "plt.show()\n",
    "# END SOLUTION\n",
    "\n",
    "### DO NOT REMOVE LINE BELOW ###\n",
    "raster_plot = nb.convert_axes(plt, which_axes=\"all\")"
   ]
  },
  {
   "cell_type": "code",
   "execution_count": 13,
   "metadata": {
    "nbgrader": {
     "grade": true,
     "grade_id": "cell-bce23465d8352d64",
     "locked": true,
     "points": 6,
     "schema_version": 3,
     "solution": false,
     "task": false
    }
   },
   "outputs": [
    {
     "name": "stdout",
     "output_type": "stream",
     "text": [
      "Testing Plot Structure. RGB Image: Axis format looks great! (points = 1)\n",
      "Testing Plot Structure. CIR Image: Axis format looks great! (points = 1)\n",
      "Testing Plot Structure. Title looks good (points = 2)\n",
      "Testing Plot Structure. Title looks good (points = 2)\n",
      "You recieved  6  points for this set of tests\n"
     ]
    },
    {
     "data": {
      "text/plain": [
       "6"
      ]
     },
     "execution_count": 13,
     "metadata": {},
     "output_type": "execute_result"
    }
   ],
   "source": [
    "# Here i have to create a set of tests for a plot with subplots. this might involve loops\n",
    "hw_raster_plot1 = ra.RasterTester(raster_plot[0])\n",
    "hw_raster_plot2 = ra.RasterTester(raster_plot[1])\n",
    "\n",
    "test_axis_off_plot1 = [hw_raster_plot1.assert_axis_off(),\n",
    "                       1,\n",
    "                       \"RGB Image: Axis format looks great!\",\n",
    "                       \"RGB Image: Looks like your axis is still on. Please turn axis_off.\"]\n",
    "\n",
    "test_axis_off_plot2 = [hw_raster_plot2.assert_axis_off(),\n",
    "                       1,\n",
    "                       \"CIR Image: Axis format looks great!\",\n",
    "                       \"CIR Image: Looks like your axis is still on. Please turn axis_off.\"]\n",
    "\n",
    "# Check plot extent ?? -- not sure i can do that yet with MPC functionality but it would be easy to add\n",
    "\n",
    "\n",
    "# Check title\n",
    "test_title_plot1 = [hw_raster_plot1.assert_title_contains([\"NAIP\", \"2017\", \"RGB\"]),\n",
    "                    2,\n",
    "                    \"Title looks good\",\n",
    "                    \"oops check your title\"]\n",
    "test_title_plot2 = [hw_raster_plot2.assert_title_contains([\"NAIP\", \"2017\", \"CIR\"]),\n",
    "                    2,\n",
    "                    \"Title looks good\",\n",
    "                    \"oops check your title\"]\n",
    "\n",
    "\n",
    "run_all_tests([test_axis_off_plot1, \n",
    "               test_axis_off_plot2, \n",
    "               test_title_plot1, \n",
    "               test_title_plot2])"
   ]
  },
  {
   "cell_type": "code",
   "execution_count": 14,
   "metadata": {
    "nbgrader": {
     "grade": true,
     "grade_id": "cell-8f894cd9d68855f3",
     "locked": true,
     "points": 20,
     "schema_version": 3,
     "solution": false,
     "task": false
    }
   },
   "outputs": [
    {
     "name": "stdout",
     "output_type": "stream",
     "text": [
      "Testing Plot Structure. RGB Image Data Test: RGB data look correct! (points = 5)\n",
      "Testing Plot Structure. CIR Image Data Test: CIR data look correct! (points = 5)\n",
      "Testing Plot Structure. Correct message (points = 5)\n",
      "Testing Plot Structure. Correct message (points = 5)\n",
      "You recieved  20  points for this set of tests\n"
     ]
    },
    {
     "data": {
      "text/plain": [
       "20"
      ]
     },
     "execution_count": 14,
     "metadata": {},
     "output_type": "execute_result"
    }
   ],
   "source": [
    "# Hidden raster tests\n",
    "# in this case our plot has several axes which we need to test individually.\n",
    "# so the use case here will require loops which a function will be good for. writing it all out first.\n",
    "\n",
    "# HIDDEN TESTS\n",
    "# Calculate expected raster data - plot one RGB image\n",
    "rgb = [0, 1, 2]\n",
    "rgb_bands = naip_2017_crop[rgb, :, :]\n",
    "im = es.bytescale(rgb_bands).transpose([1, 2, 0])\n",
    "\n",
    "# CIR image - plot 2\n",
    "hw_raster_plot2 = ra.RasterTester(raster_plot[1])\n",
    "\n",
    "rgb2 = [3, 0, 1]\n",
    "rgb_bands2 = naip_2017_crop[rgb2, :, :]\n",
    "im2 = es.bytescale(rgb_bands2).transpose([1, 2, 0])\n",
    "\n",
    "data_test_1 = [hw_raster_plot1.assert_image(im), 5,\n",
    "              \"RGB Image Data Test: RGB data look correct!\",\n",
    "              \"wrong data\"]\n",
    "data_test_2 = [hw_raster_plot2.assert_image(im2), 5,\n",
    "              \"CIR Image Data Test: CIR data look correct!\",\n",
    "              \"wrong data\"]\n",
    "## test that the fire boundary is correct\n",
    "# Test that each plot has the fire boundary overlaid on top of it\n",
    "# we will need to test what happens if the extent of the plot isn't right...\n",
    "# I added this to MPC by having the raster test inheret from the vector testor. it's a PR currently.\n",
    "\n",
    "# Convert to vertices that can be compared\n",
    "fire_bound_exp = hw_raster_plot2._convert_multipolygons(fire_bound_utmz13.geometry)\n",
    "\n",
    "test_fire_bound_plot1 = [hw_raster_plot1.assert_polygons(fire_bound_exp),\n",
    "                        5,\n",
    "                        \"Correct message\",\n",
    "                        \"You got it wrong\"]\n",
    "test_fire_bound_plot2 = [hw_raster_plot2.assert_polygons(fire_bound_exp),\n",
    "                        5,\n",
    "                        \"Correct message\",\n",
    "                        \"You got it wrong\"]\n",
    "\n",
    "run_all_tests([data_test_1, data_test_2, test_fire_bound_plot1, test_fire_bound_plot2])"
   ]
  },
  {
   "cell_type": "code",
   "execution_count": null,
   "metadata": {},
   "outputs": [],
   "source": []
  }
 ],
 "metadata": {
  "celltoolbar": "Create Assignment",
  "kernelspec": {
   "display_name": "Python [conda env:earth-analytics-python] *",
   "language": "python",
   "name": "conda-env-earth-analytics-python-py"
  },
  "language_info": {
   "codemirror_mode": {
    "name": "ipython",
    "version": 3
   },
   "file_extension": ".py",
   "mimetype": "text/x-python",
   "name": "python",
   "nbconvert_exporter": "python",
   "pygments_lexer": "ipython3",
   "version": "3.6.7"
  }
 },
 "nbformat": 4,
 "nbformat_minor": 2
}
